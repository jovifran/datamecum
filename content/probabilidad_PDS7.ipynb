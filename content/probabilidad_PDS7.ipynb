{
 "cells": [
  {
   "attachments": {},
   "cell_type": "markdown",
   "metadata": {},
   "source": [
    "<img src=\"datamecum_logo.png\" align=\"right\" style=\"float\" width=\"400\">\n",
    "<font color=\"#CA3532\"><h1 align=\"left\">Programa Experto en Data Science.</h1></font>\n",
    "<font color=\"#6E6E6E\"><h2 align=\"left\">Módulo Introducción matemática.</h2></font> \n",
    "<font color=\"#6E6E6E\"><h2 align=\"left\">Probabilidad.</h2></font> \n",
    "\n",
    "#### Joan Vila Francés\n",
    "\n",
    "\n",
    "En este notebooks vamos a introducir el concepto de probabilidad, al mismo tiempo que repasamos los conceptos básicos acerca del uso y representación de datos en Python usando las librerías `Pandas` y `numPy`.  \n",
    "## Ejemplo de probabilidad (frecuentista): encuesta de helados\n",
    "Suponemos que hacemos una encuesta para saber los gustos mundiales de helados. A partir de la encuesta sabemos la frecuencia con que la que se prefiere un determinado sabor de helado según el género."
   ]
  },
  {
   "cell_type": "code",
   "execution_count": null,
   "metadata": {},
   "outputs": [],
   "source": [
    "import numpy as np\n",
    "import pandas as pd\n",
    "import matplotlib.pyplot as plt\n",
    "%matplotlib inline\n",
    "import seaborn as sns"
   ]
  },
  {
   "cell_type": "code",
   "execution_count": null,
   "metadata": {},
   "outputs": [],
   "source": [
    "#definimos un DataFrame en Pandas con los resultados de la encuesta\n",
    "encuesta = pd.DataFrame({'chocolate': [100, 350], \n",
    "                         'vainilla': [120, 200], \n",
    "                         'fresa': [60, 90]}, \n",
    "                         index = ['hombre', 'mujer'])\n",
    "encuesta"
   ]
  },
  {
   "cell_type": "code",
   "execution_count": null,
   "metadata": {},
   "outputs": [],
   "source": [
    "type(encuesta)"
   ]
  },
  {
   "cell_type": "code",
   "execution_count": null,
   "metadata": {},
   "outputs": [],
   "source": [
    "encuesta.info()"
   ]
  },
  {
   "attachments": {},
   "cell_type": "markdown",
   "metadata": {},
   "source": [
    "### Indexado de filas y columnas en Pandas\n",
    "#### Indexado de filas"
   ]
  },
  {
   "cell_type": "code",
   "execution_count": null,
   "metadata": {
    "tags": []
   },
   "outputs": [],
   "source": [
    "#Las filas se pueden referenciar por su nombre (índex)\n",
    "encuesta.loc['hombre']"
   ]
  },
  {
   "cell_type": "code",
   "execution_count": null,
   "metadata": {},
   "outputs": [],
   "source": [
    "type(encuesta.loc['hombre'])"
   ]
  },
  {
   "cell_type": "code",
   "execution_count": null,
   "metadata": {},
   "outputs": [],
   "source": [
    "encuesta.iloc[1] #o también por su posición numérica (empezando en 0)"
   ]
  },
  {
   "cell_type": "markdown",
   "metadata": {},
   "source": [
    "#### Indexado de columnas"
   ]
  },
  {
   "cell_type": "code",
   "execution_count": null,
   "metadata": {},
   "outputs": [],
   "source": [
    "encuesta['chocolate'] #indexado de columnas por nombre"
   ]
  },
  {
   "cell_type": "code",
   "execution_count": null,
   "metadata": {},
   "outputs": [],
   "source": [
    "encuesta.chocolate #indexado de columnas por nombre"
   ]
  },
  {
   "cell_type": "code",
   "execution_count": null,
   "metadata": {},
   "outputs": [],
   "source": [
    "encuesta[['chocolate', 'fresa']] #varias columnas"
   ]
  },
  {
   "cell_type": "markdown",
   "metadata": {},
   "source": [
    "También podemos indexar una columna como objeto `DataFrame` con:"
   ]
  },
  {
   "cell_type": "code",
   "execution_count": null,
   "metadata": {},
   "outputs": [],
   "source": [
    "encuesta[['chocolate']]"
   ]
  },
  {
   "cell_type": "code",
   "execution_count": null,
   "metadata": {},
   "outputs": [],
   "source": [
    "encuesta['chocolate']"
   ]
  },
  {
   "cell_type": "markdown",
   "metadata": {},
   "source": [
    "¿cuál es la diferencia entre `encuesta['chocolate']` y `encuesta[['chocolate']]`?"
   ]
  },
  {
   "cell_type": "code",
   "execution_count": null,
   "metadata": {},
   "outputs": [],
   "source": [
    "type(encuesta['chocolate'])"
   ]
  },
  {
   "cell_type": "code",
   "execution_count": null,
   "metadata": {},
   "outputs": [],
   "source": [
    "type(encuesta[['chocolate']])"
   ]
  },
  {
   "cell_type": "markdown",
   "metadata": {},
   "source": [
    "#### Indexado de celdas\n",
    "Por etiqueta (*label*)"
   ]
  },
  {
   "cell_type": "code",
   "execution_count": null,
   "metadata": {},
   "outputs": [],
   "source": [
    "encuesta.loc['hombre', 'chocolate'] #indexado de celda [fila, columna]"
   ]
  },
  {
   "cell_type": "markdown",
   "metadata": {},
   "source": [
    "Por índice"
   ]
  },
  {
   "cell_type": "code",
   "execution_count": null,
   "metadata": {},
   "outputs": [],
   "source": [
    "encuesta.iloc[0, 0]"
   ]
  },
  {
   "cell_type": "code",
   "execution_count": null,
   "metadata": {},
   "outputs": [],
   "source": [
    "#equivalente: indexar una columna y en objeto pd.Series resultante indexar una fila\n",
    "encuesta['chocolate']['hombre']"
   ]
  },
  {
   "cell_type": "markdown",
   "metadata": {},
   "source": [
    "Con este indexado también podemos hacer un \"subset\" de filas y columnas"
   ]
  },
  {
   "cell_type": "code",
   "execution_count": null,
   "metadata": {},
   "outputs": [],
   "source": [
    "#otra manera de indexar columnas por nombre\n",
    "encuesta.loc[:,\"chocolate\"]"
   ]
  },
  {
   "cell_type": "code",
   "execution_count": null,
   "metadata": {},
   "outputs": [],
   "source": [
    "encuesta.iloc[:,0] #referencia a columna por índice"
   ]
  },
  {
   "cell_type": "code",
   "execution_count": null,
   "metadata": {},
   "outputs": [],
   "source": [
    "encuesta.iloc[:,0:2] #referencia a subset de columnas por índice"
   ]
  },
  {
   "cell_type": "code",
   "execution_count": null,
   "metadata": {},
   "outputs": [],
   "source": [
    "encuesta.iloc[:,[0,2]] #referencia a subset de columnas por índice"
   ]
  },
  {
   "cell_type": "markdown",
   "metadata": {},
   "source": [
    "### Sumatorios"
   ]
  },
  {
   "cell_type": "code",
   "execution_count": null,
   "metadata": {},
   "outputs": [],
   "source": [
    "encuesta"
   ]
  },
  {
   "cell_type": "code",
   "execution_count": null,
   "metadata": {},
   "outputs": [],
   "source": [
    "#Podemos sumar las filas para ver totales por columnas (agregación por filas -index-)\n",
    "encuesta.sum(axis='index')"
   ]
  },
  {
   "cell_type": "code",
   "execution_count": null,
   "metadata": {},
   "outputs": [],
   "source": [
    "#O podemos sumar las columnas para ver totales por filas (agregación por columnas)\n",
    "encuesta.sum(axis='columns')"
   ]
  },
  {
   "cell_type": "code",
   "execution_count": null,
   "metadata": {},
   "outputs": [],
   "source": [
    "encuesta.sum() #por defecto agrega por axis=0 (filas)"
   ]
  },
  {
   "cell_type": "code",
   "execution_count": null,
   "metadata": {},
   "outputs": [],
   "source": [
    "#Totales de la tabla\n",
    "N = encuesta.sum().sum()\n",
    "N"
   ]
  },
  {
   "attachments": {},
   "cell_type": "markdown",
   "metadata": {},
   "source": [
    "### Conversión a `numPy`\n",
    "Podemos convertir de Pandas a NumPy y usar sus funciones"
   ]
  },
  {
   "cell_type": "code",
   "execution_count": null,
   "metadata": {},
   "outputs": [],
   "source": [
    "encuesta_np = encuesta.to_numpy()\n",
    "encuesta_np"
   ]
  },
  {
   "cell_type": "code",
   "execution_count": null,
   "metadata": {},
   "outputs": [],
   "source": [
    "type(encuesta_np)"
   ]
  },
  {
   "cell_type": "code",
   "execution_count": null,
   "metadata": {},
   "outputs": [],
   "source": [
    "encuesta_np.shape"
   ]
  },
  {
   "cell_type": "code",
   "execution_count": null,
   "metadata": {},
   "outputs": [],
   "source": [
    "encuesta_np.dtype"
   ]
  },
  {
   "cell_type": "code",
   "execution_count": null,
   "metadata": {},
   "outputs": [],
   "source": [
    "#numPy por defecto suma todos los elementos\n",
    "encuesta_np.sum()"
   ]
  },
  {
   "cell_type": "code",
   "execution_count": null,
   "metadata": {},
   "outputs": [],
   "source": [
    "encuesta_np.sum(axis=0) #suma por filas -eje 0-"
   ]
  },
  {
   "cell_type": "code",
   "execution_count": null,
   "metadata": {},
   "outputs": [],
   "source": [
    "encuesta_np.sum(axis=0).shape #suma por filas"
   ]
  },
  {
   "cell_type": "code",
   "execution_count": null,
   "metadata": {},
   "outputs": [],
   "source": [
    "encuesta_np.sum(axis=1) #suma por columnas -eje 1-"
   ]
  },
  {
   "cell_type": "code",
   "execution_count": null,
   "metadata": {},
   "outputs": [],
   "source": [
    "encuesta_np.sum(axis=1).shape #suma por columnas"
   ]
  },
  {
   "cell_type": "markdown",
   "metadata": {},
   "source": [
    "#### Probabilidad conjunta\n",
    "La probabilidad de que sucedan dos eventos a la vez.  \n",
    "Calculamos la probabilidad conjunto de los eventos *género* y *sabor*"
   ]
  },
  {
   "cell_type": "code",
   "execution_count": null,
   "metadata": {},
   "outputs": [],
   "source": [
    "#Convertimos frecuencias a probabilidad (aprox. frecuentista)\n",
    "P = encuesta / N\n",
    "P"
   ]
  },
  {
   "attachments": {},
   "cell_type": "markdown",
   "metadata": {},
   "source": [
    "La probabilidad de todo el espacio muestral debe ser 1"
   ]
  },
  {
   "cell_type": "code",
   "execution_count": null,
   "metadata": {},
   "outputs": [],
   "source": [
    "P.sum().sum()"
   ]
  },
  {
   "cell_type": "markdown",
   "metadata": {},
   "source": [
    "Ejemplo, de los 920 participantes de la encuesta, ¿Cuál es la probabilidad de que el participante sea un hombre **y** prefiera el chocolate, $P(hombre, chocolate)$?"
   ]
  },
  {
   "cell_type": "code",
   "execution_count": null,
   "metadata": {},
   "outputs": [],
   "source": [
    "P.loc['hombre', 'chocolate']"
   ]
  },
  {
   "cell_type": "markdown",
   "metadata": {},
   "source": [
    "¿Cuál es la probabilidad de que el participante sea una mujer y prefiera la vainilla, $P(mujer, vainilla)$?"
   ]
  },
  {
   "cell_type": "code",
   "execution_count": null,
   "metadata": {},
   "outputs": [],
   "source": [
    "#completar\n",
    "P.loc['mujer','vainilla']"
   ]
  },
  {
   "attachments": {},
   "cell_type": "markdown",
   "metadata": {},
   "source": [
    "#### Probabilidad marginal\n",
    "La probabilidad **marginal** de una probabilidad conjunta se obtiene eliminando el efecto de un evento sobre la probabilidad conjunta (regla de la suma):  \n",
    "\\begin{align}\n",
    "P(A)=\\sum_B{P(A,B)}\n",
    "\\end{align} \n",
    "En la encuesta, la probabilidad $P(sabor)$ se obtiene sumando las probabilidades conjuntas: $P(sabor, hombre)+P(sabor, mujer)$"
   ]
  },
  {
   "cell_type": "code",
   "execution_count": null,
   "metadata": {},
   "outputs": [],
   "source": [
    "#Sumamos las filas (género) para obtener la probabilidad marginal de sabor\n",
    "P_sabor = P.sum(axis='index')\n",
    "P_sabor"
   ]
  },
  {
   "cell_type": "markdown",
   "metadata": {},
   "source": [
    "Ejemplo: la probabilidad de que un participante cualquiera prefiera el chocolate, $P(chocolate)$, es"
   ]
  },
  {
   "cell_type": "code",
   "execution_count": null,
   "metadata": {},
   "outputs": [],
   "source": [
    "P_sabor['chocolate']"
   ]
  },
  {
   "cell_type": "code",
   "execution_count": null,
   "metadata": {},
   "outputs": [],
   "source": [
    "P_sabor['vainilla']"
   ]
  },
  {
   "cell_type": "markdown",
   "metadata": {},
   "source": [
    "Este valor equivale a la suma  $P(hombre, chocolate) + P(mujer, chocolate)$"
   ]
  },
  {
   "cell_type": "code",
   "execution_count": null,
   "metadata": {},
   "outputs": [],
   "source": [
    "#comprobar\n",
    "P.loc['hombre','chocolate']+P.loc['mujer', 'chocolate']"
   ]
  },
  {
   "attachments": {},
   "cell_type": "markdown",
   "metadata": {},
   "source": [
    "Podemos calcular la probabilidad de $P(género)$ sumando por columnas:"
   ]
  },
  {
   "cell_type": "code",
   "execution_count": null,
   "metadata": {},
   "outputs": [],
   "source": [
    "P_genero = P.sum(axis='columns')\n",
    "P_genero"
   ]
  },
  {
   "cell_type": "markdown",
   "metadata": {},
   "source": [
    "Probabilidad de que el encuestado sea un hombre"
   ]
  },
  {
   "cell_type": "code",
   "execution_count": null,
   "metadata": {},
   "outputs": [],
   "source": [
    "#P('hombre')\n",
    "P_genero['hombre']"
   ]
  },
  {
   "cell_type": "markdown",
   "metadata": {},
   "source": [
    "Este valor equivale a la suma  $P(hombre, chocolate) + P(hombre, vainilla) + P(hombre, fresa)$ (regla de la suma) "
   ]
  },
  {
   "cell_type": "code",
   "execution_count": null,
   "metadata": {},
   "outputs": [],
   "source": [
    "P.loc['hombre', 'chocolate']+P.loc['hombre', 'vainilla']+P.loc['hombre', 'fresa']"
   ]
  },
  {
   "attachments": {},
   "cell_type": "markdown",
   "metadata": {},
   "source": [
    "#### Probabilidad condicionada\n",
    "La probabilidad de que suceda un evento dado que ha sucedido otro evento.  \n",
    "Ejemplo, si sabemos que el participante de la encuesta es un hombre, ¿cuál es la probilidad de que prefiera el chocolate, $P(chocolate|hombre)$?  \n",
    "Por la regla de la cadena:  \n",
    "\\begin{align}\n",
    "P(chocolate|hombre)=\\frac{P(chocolate,hombre)}{P(hombre)}\n",
    "\\end{align}"
   ]
  },
  {
   "cell_type": "code",
   "execution_count": null,
   "metadata": {},
   "outputs": [],
   "source": [
    "P_choco_hombre = P.loc['hombre', 'chocolate'] / P_genero['hombre']\n",
    "P_choco_hombre"
   ]
  },
  {
   "attachments": {},
   "cell_type": "markdown",
   "metadata": {},
   "source": [
    "Nótese que es distinta de la probabilidad $P(chocolate)$:"
   ]
  },
  {
   "cell_type": "code",
   "execution_count": null,
   "metadata": {},
   "outputs": [],
   "source": [
    "P_sabor['chocolate']"
   ]
  },
  {
   "attachments": {},
   "cell_type": "markdown",
   "metadata": {},
   "source": [
    "Es decir, que la probabilidad -global- de que a un encuestado le guste el chocolate es del 48%, pero disminuye a un 36% si sabemos que el encuestado es un hombre (como luego veremos esto indica que ambos eventos NO son independientes)"
   ]
  },
  {
   "cell_type": "markdown",
   "metadata": {},
   "source": [
    "#### Ejercicio\n",
    "Calcula la probabilidad $P(chocolate|mujer)$"
   ]
  },
  {
   "cell_type": "code",
   "execution_count": null,
   "metadata": {},
   "outputs": [],
   "source": [
    "#completar\n"
   ]
  },
  {
   "cell_type": "markdown",
   "metadata": {},
   "source": [
    "Podemos calcular la probabilidad de cada sabor condicionada por género para cada entrada de la tabla en una sola operación."
   ]
  },
  {
   "cell_type": "code",
   "execution_count": null,
   "metadata": {},
   "outputs": [],
   "source": [
    "#dividimos cada columna (sabor) por la P_genero\n",
    "P_s_g = P.div(P_genero, axis=0)\n",
    "\n",
    "P_s_g #probabilidad condicional P(sabor|género)"
   ]
  },
  {
   "cell_type": "markdown",
   "metadata": {},
   "source": [
    "P. ej. la probabilidad de que siendo mujer le guste la fresa $P(fresa|mujer)$ es"
   ]
  },
  {
   "cell_type": "code",
   "execution_count": null,
   "metadata": {},
   "outputs": [],
   "source": [
    "P_s_g.loc['mujer', 'fresa']"
   ]
  },
  {
   "cell_type": "markdown",
   "metadata": {},
   "source": [
    "Podemos condicionar cada género por sabor ($P(género|sabor)$) dividiendo cada columna por su P_sabor"
   ]
  },
  {
   "cell_type": "code",
   "execution_count": null,
   "metadata": {},
   "outputs": [],
   "source": [
    "P_g_s = P.div(P_sabor, axis=1)\n",
    "\n",
    "P_g_s #probabilidad condicional P(género|sabor)"
   ]
  },
  {
   "cell_type": "markdown",
   "metadata": {},
   "source": [
    "P. ej. la probabilidad de ser mujer si te gusta la fresa, $P(mujer|fresa)$:"
   ]
  },
  {
   "cell_type": "code",
   "execution_count": null,
   "metadata": {},
   "outputs": [],
   "source": [
    "P_g_s.loc['mujer', 'fresa']"
   ]
  },
  {
   "cell_type": "markdown",
   "metadata": {},
   "source": [
    "#### Ley de la probabilidad total\n",
    "Se puede calcular la probabilidad de un evento como la suma de todas sus probabilidades condicionales.  \n",
    "Ejemplo: la probabilidad de que el participante de la encuesta prefiera el chocolate es la suma:  \n",
    "  \n",
    "$P(chocolate) = \\underset{genero}{ \\sum} P(chocolate|genero) \\times P(genero) =P(chocolate|hombre) \\times P(hombre) + P(chocolate|mujer) \\times P(mujer)$  \n"
   ]
  },
  {
   "cell_type": "code",
   "execution_count": null,
   "metadata": {},
   "outputs": [],
   "source": [
    "P_sabor['chocolate'] #calculada antes con la suma marginal"
   ]
  },
  {
   "cell_type": "code",
   "execution_count": null,
   "metadata": {},
   "outputs": [],
   "source": [
    "#P(sabor|género) es P_s_g.loc['género', 'sabor']\n",
    "\n",
    "P_choco = (P_s_g.loc['hombre', 'chocolate'] * P_genero['hombre'] + \n",
    "           P_s_g.loc['mujer', 'chocolate'] * P_genero['mujer'])\n",
    "P_choco"
   ]
  },
  {
   "cell_type": "code",
   "execution_count": null,
   "metadata": {},
   "outputs": [],
   "source": [
    "#La probabilidad total de cada sabor se puede calcular con el producto matricial\n",
    "# P(genero) x P(sabor|género)\n",
    "# dim(1,2) x dim(2,3) = dim(1,3)\n",
    "P_genero.to_numpy().dot(P_s_g) #P(sabor)"
   ]
  },
  {
   "cell_type": "markdown",
   "metadata": {},
   "source": [
    "#### Independencia\n",
    "Dos eventos son independientes si $P(A, B) = P(A) \\cdot P(B)$   \n",
    "¿se cumple para los datos de la encuesta?"
   ]
  },
  {
   "cell_type": "code",
   "execution_count": null,
   "metadata": {},
   "outputs": [],
   "source": [
    "P.loc['hombre', 'chocolate'] == P_genero['hombre'] * P_sabor['chocolate']"
   ]
  },
  {
   "cell_type": "markdown",
   "metadata": {},
   "source": [
    "Es decir, la probabilidad de que te guste más el chocolate no es independiente del género."
   ]
  },
  {
   "cell_type": "code",
   "execution_count": null,
   "metadata": {},
   "outputs": [],
   "source": [
    "P.loc['hombre', 'chocolate']"
   ]
  },
  {
   "cell_type": "code",
   "execution_count": null,
   "metadata": {},
   "outputs": [],
   "source": [
    "P_genero['hombre'] * P_sabor['chocolate']"
   ]
  },
  {
   "cell_type": "markdown",
   "metadata": {},
   "source": [
    "Otra manera de comprobar independencia es ver si $P(S|G) = P(S)$  \n",
    "Para eso podemos calcular si la probabilidad de 'hombre' es igual dado el gusto del participante  "
   ]
  },
  {
   "cell_type": "code",
   "execution_count": null,
   "metadata": {},
   "outputs": [],
   "source": [
    "#P(sabor|hombre) = P(sabor,hombre)/P(hombre)\n",
    "P.loc['hombre'] / P_genero['hombre']"
   ]
  },
  {
   "cell_type": "code",
   "execution_count": null,
   "metadata": {},
   "outputs": [],
   "source": [
    "#mientras que P(sabor) es\n",
    "P.sum(axis=0)"
   ]
  },
  {
   "cell_type": "markdown",
   "metadata": {},
   "source": [
    "Vemos que la probabilidad $P(sabor|hombre)$ es distinta que la probabilidad marginal de cada sabor, por lo que hombre y sabor NO son independientes: la probabilidad del sabor preferido depende del género del encuestado."
   ]
  },
  {
   "cell_type": "markdown",
   "metadata": {},
   "source": [
    "## Ejemplo práctico\n",
    "### Dataset 'Titanic'\n",
    "Vamos a utilizar un listado de pasajeros del Titanic para estudiar probabilidades de supervivencia de los pasajeros en función de su género y su clase. \n",
    "Primero cargamos los datos como `DataFrame` de Pandas.  "
   ]
  },
  {
   "cell_type": "code",
   "execution_count": null,
   "metadata": {},
   "outputs": [],
   "source": [
    "#Cargamos el dataset\n",
    "titanic = pd.read_csv('titanic.csv')"
   ]
  },
  {
   "cell_type": "code",
   "execution_count": null,
   "metadata": {},
   "outputs": [],
   "source": [
    "titanic.info()"
   ]
  },
  {
   "cell_type": "code",
   "execution_count": null,
   "metadata": {},
   "outputs": [],
   "source": [
    "#Mostramos primeras columnas como ejemplo\n",
    "titanic.head()"
   ]
  },
  {
   "cell_type": "code",
   "execution_count": null,
   "metadata": {},
   "outputs": [],
   "source": [
    "#Convertimos columna 'Sex' a categoría\n",
    "titanic['Sex'] = titanic['Sex'].astype('category')"
   ]
  },
  {
   "cell_type": "code",
   "execution_count": null,
   "metadata": {},
   "outputs": [],
   "source": [
    "#Convertimos columna 'Survived' a categoría\n",
    "titanic[\"Survived\"] = titanic[\"Survived\"].map({0: \"no\", 1: \"yes\"}).astype(\"category\")"
   ]
  },
  {
   "cell_type": "code",
   "execution_count": null,
   "metadata": {},
   "outputs": [],
   "source": [
    "titanic.info()"
   ]
  },
  {
   "attachments": {},
   "cell_type": "markdown",
   "metadata": {},
   "source": [
    "### Análisis exploratorio (EDA)\n",
    "Realizamos un primer análisis de cada variable categórica del dataset (supervivencia, clase, género)"
   ]
  },
  {
   "cell_type": "code",
   "execution_count": null,
   "metadata": {},
   "outputs": [],
   "source": [
    "titanic['Survived'].value_counts()"
   ]
  },
  {
   "cell_type": "code",
   "execution_count": null,
   "metadata": {},
   "outputs": [],
   "source": [
    "titanic['Pclass'].value_counts()"
   ]
  },
  {
   "cell_type": "code",
   "execution_count": null,
   "metadata": {},
   "outputs": [],
   "source": [
    "titanic['Sex'].value_counts()"
   ]
  },
  {
   "cell_type": "markdown",
   "metadata": {},
   "source": [
    "Para los datos numéricos de edad vemos su descripción estadística"
   ]
  },
  {
   "cell_type": "code",
   "execution_count": null,
   "metadata": {},
   "outputs": [],
   "source": [
    "titanic['Age'].describe()"
   ]
  },
  {
   "attachments": {},
   "cell_type": "markdown",
   "metadata": {},
   "source": [
    "### Visualización\n",
    "Usamos la librería `seaborn`, https://seaborn.pydata.org/tutorial/categorical.html#bar-plots  \n",
    "\n",
    "#### Variables categóricas\n",
    "Vemos el recuento de variables categóricas con la función `countplot`"
   ]
  },
  {
   "cell_type": "code",
   "execution_count": null,
   "metadata": {},
   "outputs": [],
   "source": [
    "# Nº supervivientes\n",
    "sns.countplot(data=titanic, x=\"Survived\")\n",
    "plt.show()"
   ]
  },
  {
   "cell_type": "code",
   "execution_count": null,
   "metadata": {},
   "outputs": [],
   "source": [
    "# Nº pasajeros por clase\n",
    "sns.countplot(data=titanic, y=\"Pclass\")\n",
    "plt.show()"
   ]
  },
  {
   "cell_type": "markdown",
   "metadata": {},
   "source": [
    "#### Variables numéricas\n",
    "Vemos la distribución de las variables numéricas con su histograma."
   ]
  },
  {
   "cell_type": "code",
   "execution_count": null,
   "metadata": {},
   "outputs": [],
   "source": [
    "sns.histplot(data=titanic, x=\"Age\")\n",
    "plt.show()"
   ]
  },
  {
   "cell_type": "markdown",
   "metadata": {},
   "source": [
    "Variables numéricas agregadas por categoría"
   ]
  },
  {
   "cell_type": "code",
   "execution_count": null,
   "metadata": {},
   "outputs": [],
   "source": [
    "#Edad media frente a clase\n",
    "#seaborn toma la media del eje Y para representar cada categoría en X\n",
    "\n",
    "sns.barplot(data=titanic, x=\"Pclass\", y=\"Age\")\n",
    "plt.show()"
   ]
  },
  {
   "cell_type": "markdown",
   "metadata": {},
   "source": [
    "Estos valores corresponden con las medias calculadas agrupando por clase:"
   ]
  },
  {
   "cell_type": "code",
   "execution_count": null,
   "metadata": {},
   "outputs": [],
   "source": [
    "titanic.groupby(\"Pclass\")[\"Age\"].mean()"
   ]
  },
  {
   "cell_type": "code",
   "execution_count": null,
   "metadata": {},
   "outputs": [],
   "source": [
    "# visualizamos % Survived frente a Sex\n",
    "sns.barplot(data=titanic, x=\"Sex\", y=(titanic[\"Survived\"]==\"yes\").astype('int')*100, errorbar=None) #media de \"survived\" por \"Sex\"\n",
    "plt.show()"
   ]
  },
  {
   "cell_type": "code",
   "execution_count": null,
   "metadata": {},
   "outputs": [],
   "source": [
    "# porcentaje de supervivientes por clase\n",
    "sns.barplot(data=titanic, x=\"Pclass\", y=(titanic[\"Survived\"]==\"yes\").astype('int')*100, errorbar=None)\n",
    "plt.show()"
   ]
  },
  {
   "cell_type": "markdown",
   "metadata": {},
   "source": [
    "Podemos representar una tercera variable con el color (Hue) de las gráficas"
   ]
  },
  {
   "cell_type": "code",
   "execution_count": null,
   "metadata": {},
   "outputs": [],
   "source": [
    "#supervivientes por clase y sexo\n",
    "sns.barplot(data=titanic, x=\"Pclass\", y=(titanic[\"Survived\"]==\"yes\").astype('int')*100, hue=\"Sex\", errorbar=None)\n",
    "plt.show()"
   ]
  },
  {
   "cell_type": "code",
   "execution_count": null,
   "metadata": {},
   "outputs": [],
   "source": [
    "#edad media según supervivencia por clase\n",
    "sns.barplot(data=titanic, x=\"Pclass\", y=\"Age\", hue=\"Survived\", errorbar=None) #eje Y calcula media\n",
    "plt.show()"
   ]
  },
  {
   "attachments": {},
   "cell_type": "markdown",
   "metadata": {},
   "source": [
    "### Tablas de contingencia\n",
    "Contamos nº de muestras agrupando por variables (extensión del `value_count` a varias dimensiones)"
   ]
  },
  {
   "cell_type": "code",
   "execution_count": null,
   "metadata": {},
   "outputs": [],
   "source": [
    "#Tabla de contingencia: nº de pasajeros por supervicencia y sexo\n",
    "pd.crosstab(index=titanic['Survived'], columns=titanic['Sex'])"
   ]
  },
  {
   "cell_type": "code",
   "execution_count": null,
   "metadata": {},
   "outputs": [],
   "source": [
    "#Traspuesta de la anterior: nº de pasajeros por sexo y supervivencia\n",
    "t = pd.crosstab(index=titanic['Sex'], columns=titanic['Survived'])\n",
    "t"
   ]
  },
  {
   "cell_type": "code",
   "execution_count": null,
   "metadata": {},
   "outputs": [],
   "source": [
    "t.info()"
   ]
  },
  {
   "cell_type": "code",
   "execution_count": null,
   "metadata": {},
   "outputs": [],
   "source": [
    "t[\"no\"]"
   ]
  },
  {
   "cell_type": "code",
   "execution_count": null,
   "metadata": {},
   "outputs": [],
   "source": [
    "#Tabla de contingencia: nº de pasajeros por clase y sexo\n",
    "pd.crosstab(index=titanic['Pclass'], columns=titanic['Sex'])"
   ]
  },
  {
   "cell_type": "code",
   "execution_count": null,
   "metadata": {},
   "outputs": [],
   "source": [
    "#Tabla de contingencia: nº de pasajeros por supervivencia y clase\n",
    "pd.crosstab(index=titanic['Survived'], columns=titanic['Pclass'])"
   ]
  },
  {
   "cell_type": "markdown",
   "metadata": {},
   "source": [
    "#### Tablas de contingencias de más de 2 variables\n",
    "En ese caso hay que crear una tabla multi-índice (varias niveles jerárquicos de columnas o de filas)"
   ]
  },
  {
   "cell_type": "code",
   "execution_count": null,
   "metadata": {},
   "outputs": [],
   "source": [
    "#Tabla de contingencia: nº de supervivientes (fila) por sexo y clase (multi-columna)\n",
    "titanic_survived = pd.crosstab(index=titanic['Survived'], columns=[titanic['Sex'],titanic['Pclass']])\n",
    "titanic_survived"
   ]
  },
  {
   "cell_type": "code",
   "execution_count": null,
   "metadata": {},
   "outputs": [],
   "source": [
    "titanic_survived.sum()"
   ]
  },
  {
   "cell_type": "code",
   "execution_count": null,
   "metadata": {},
   "outputs": [],
   "source": [
    "titanic_survived.info()"
   ]
  },
  {
   "attachments": {},
   "cell_type": "markdown",
   "metadata": {},
   "source": [
    "cada columna es una tupla de dos elementos:"
   ]
  },
  {
   "cell_type": "code",
   "execution_count": null,
   "metadata": {},
   "outputs": [],
   "source": [
    "titanic_survived.columns"
   ]
  },
  {
   "cell_type": "markdown",
   "metadata": {},
   "source": [
    "#### Indexado de tablas multi-columna"
   ]
  },
  {
   "cell_type": "code",
   "execution_count": null,
   "metadata": {},
   "outputs": [],
   "source": [
    "titanic_survived.loc['no'] #indexado de filas"
   ]
  },
  {
   "cell_type": "code",
   "execution_count": null,
   "metadata": {},
   "outputs": [],
   "source": [
    "titanic_survived[\"male\"] #indexado de columna superior"
   ]
  },
  {
   "cell_type": "code",
   "execution_count": null,
   "metadata": {},
   "outputs": [],
   "source": [
    "titanic_survived[(\"male\",2)] #indexado multicolumna"
   ]
  },
  {
   "cell_type": "code",
   "execution_count": null,
   "metadata": {},
   "outputs": [],
   "source": [
    "titanic_survived[[('female', 1), ('male', 1), ('male', 3)]] #seleccionamos columnas concretas multi-índice"
   ]
  },
  {
   "cell_type": "markdown",
   "metadata": {},
   "source": [
    "Para seleccionar el segundo nivel del multindex por columna se utiliza el método `xs` (*cross-section*):"
   ]
  },
  {
   "cell_type": "code",
   "execution_count": null,
   "metadata": {},
   "outputs": [],
   "source": [
    "titanic_survived"
   ]
  },
  {
   "cell_type": "code",
   "execution_count": null,
   "metadata": {},
   "outputs": [],
   "source": [
    "titanic_survived.xs(1, axis='columns', level=\"Pclass\") #indexado columna inferior"
   ]
  },
  {
   "cell_type": "markdown",
   "metadata": {},
   "source": [
    "Indexado de una celda en un datafram multi-columna"
   ]
  },
  {
   "cell_type": "code",
   "execution_count": null,
   "metadata": {},
   "outputs": [],
   "source": [
    "titanic_survived.loc['no'][('female', 1)] #supervivientes clase 1, female"
   ]
  },
  {
   "cell_type": "code",
   "execution_count": null,
   "metadata": {},
   "outputs": [],
   "source": [
    "titanic_survived.loc['no', ('female', 1)] #equivale a la anterior"
   ]
  },
  {
   "attachments": {},
   "cell_type": "markdown",
   "metadata": {},
   "source": [
    "### Análisis de la probabilidad conjunta\n",
    "Primero necesitamos normalizar a probabilidades la tabla de contingencias"
   ]
  },
  {
   "cell_type": "code",
   "execution_count": null,
   "metadata": {},
   "outputs": [],
   "source": [
    "N = len(titanic)\n",
    "N"
   ]
  },
  {
   "cell_type": "code",
   "execution_count": null,
   "metadata": {},
   "outputs": [],
   "source": [
    "titanic_survived"
   ]
  },
  {
   "cell_type": "code",
   "execution_count": null,
   "metadata": {},
   "outputs": [],
   "source": [
    "P_titanic = titanic_survived / N\n",
    "round(P_titanic, 4)"
   ]
  },
  {
   "cell_type": "markdown",
   "metadata": {},
   "source": [
    "De esta tabla obtenemos las probabilidades conjuntas de los tres eventos (supervivencia, género, clase)"
   ]
  },
  {
   "cell_type": "code",
   "execution_count": null,
   "metadata": {},
   "outputs": [],
   "source": [
    "P_titanic.loc['no'] #No Supervivientes por género y clase\n"
   ]
  },
  {
   "cell_type": "code",
   "execution_count": null,
   "metadata": {},
   "outputs": [],
   "source": [
    "#P(no supervivencia, mujer, todas las clases)\n",
    "P_titanic.loc['no', 'female']"
   ]
  },
  {
   "cell_type": "markdown",
   "metadata": {},
   "source": [
    "Por ejemplo, probabilidad de supervivencia para mujeres de clase 2: $P(Survived, female, 2)$"
   ]
  },
  {
   "cell_type": "code",
   "execution_count": null,
   "metadata": {},
   "outputs": [],
   "source": [
    "P_titanic.loc['yes', (\"female\", 2)]"
   ]
  },
  {
   "cell_type": "code",
   "execution_count": null,
   "metadata": {},
   "outputs": [],
   "source": [
    "P_titanic.loc['yes'][(\"female\", 2)] #equivalente"
   ]
  },
  {
   "cell_type": "code",
   "execution_count": null,
   "metadata": {},
   "outputs": [],
   "source": [
    "P_titanic[(\"female\", 2)]['yes'] #última manera"
   ]
  },
  {
   "attachments": {},
   "cell_type": "markdown",
   "metadata": {},
   "source": [
    "Para calcular las probabilidad de supervivencia de la clase 1, $P(clase=1)$, hay que aplicar la regla de la suma sobre todas las columnas `PClass=1`:  "
   ]
  },
  {
   "cell_type": "code",
   "execution_count": null,
   "metadata": {},
   "outputs": [],
   "source": [
    "P_titanic #recordamos"
   ]
  },
  {
   "cell_type": "code",
   "execution_count": null,
   "metadata": {},
   "outputs": [],
   "source": [
    "P_titanic.xs(1, axis='columns', level='Pclass') #Supervivencia por género para clase 1 -segundo nivel del índice de columnas-"
   ]
  },
  {
   "cell_type": "code",
   "execution_count": null,
   "metadata": {},
   "outputs": [],
   "source": [
    "P_titanic.xs(1, axis='columns', level='Pclass').sum(axis=1) #Supervivencia para clase 1 -suma marginal-"
   ]
  },
  {
   "attachments": {},
   "cell_type": "markdown",
   "metadata": {},
   "source": [
    "### Tablas de contingencia multi-índice\n",
    "También podemos crear niveles jerárquicos del índice (filas)"
   ]
  },
  {
   "cell_type": "code",
   "execution_count": null,
   "metadata": {},
   "outputs": [],
   "source": [
    "#Tabla de contingencia multi-índice (supervivencia y sexo por clase)\n",
    "P_titanic_2 = pd.crosstab(index=[titanic['Survived'],titanic['Sex']], columns=[titanic['Pclass']]) / N\n",
    "round(P_titanic_2, 4)"
   ]
  },
  {
   "cell_type": "code",
   "execution_count": null,
   "metadata": {},
   "outputs": [],
   "source": [
    "P_titanic_2.info()"
   ]
  },
  {
   "cell_type": "markdown",
   "metadata": {},
   "source": [
    "Cada índice es una tupla de 2 elementos:"
   ]
  },
  {
   "cell_type": "code",
   "execution_count": null,
   "metadata": {},
   "outputs": [],
   "source": [
    "P_titanic_2.index"
   ]
  },
  {
   "cell_type": "markdown",
   "metadata": {},
   "source": [
    "Indexado de tablas multi-índice"
   ]
  },
  {
   "cell_type": "code",
   "execution_count": null,
   "metadata": {},
   "outputs": [],
   "source": [
    "#indexamos por el primer nivel del índice: seleccionamos filas para Survived='yes'\n",
    "P_titanic_2.loc['yes']"
   ]
  },
  {
   "cell_type": "code",
   "execution_count": null,
   "metadata": {},
   "outputs": [],
   "source": [
    "#indexamos por el segundo nivel del índice: seleccionamos filas para nivel Sex='male'\n",
    "P_titanic_2.xs('male', axis='index', level='Sex')"
   ]
  },
  {
   "cell_type": "code",
   "execution_count": null,
   "metadata": {},
   "outputs": [],
   "source": [
    "P_titanic_2.loc[[('no', 'male'), ('yes', 'female')]] #seleccionamos filas concretas multi-índice"
   ]
  },
  {
   "cell_type": "markdown",
   "metadata": {},
   "source": [
    "### Ejercicio  \n",
    "Calcula las probabilidades condicionales siguientes:  \n",
    " * $P(Survived=True|Género=male)$ \n",
    " * $P(Survived=True|Clase=1)$  \n",
    " * $P(Survived=True|Género=male, Clase=1)$  \n",
    " "
   ]
  },
  {
   "cell_type": "markdown",
   "metadata": {},
   "source": [
    "Solución de $P(Survived=True|Género=male)$  "
   ]
  },
  {
   "cell_type": "code",
   "execution_count": null,
   "metadata": {},
   "outputs": [],
   "source": [
    "# SOLUCIÓN\n"
   ]
  },
  {
   "cell_type": "markdown",
   "metadata": {},
   "source": [
    "Solución de $P(Survived=True|Clase=1)$  "
   ]
  },
  {
   "cell_type": "code",
   "execution_count": null,
   "metadata": {},
   "outputs": [],
   "source": [
    "# SOLUCIÓN\n"
   ]
  },
  {
   "cell_type": "markdown",
   "metadata": {},
   "source": [
    "Solución de $P(Survived=True|Género=male, Clase=1)$   \n",
    "  \n",
    "Aquí hay que aplicar la regla de la cadena:  \n",
    "$$\n",
    "P(S,G,C) = P(S|G,C) \\times P(G,C)\n",
    "$$  \n",
    "por tanto:  \n",
    "$$\n",
    "P(S|G,C) = P(S,G,C) / P(G,C)\n",
    "$$  \n",
    "\n",
    "luego:  \n",
    "$$\n",
    "P(Survived=True|Género=male, Clase=1) =\n",
    "$$\n",
    "$$\n",
    "= P(Survived=True, Género=male, Clase=1) / P(Género=male, Clase=1)\n",
    "$$"
   ]
  },
  {
   "cell_type": "code",
   "execution_count": null,
   "metadata": {},
   "outputs": [],
   "source": [
    "# SOLUCIÓN\n"
   ]
  },
  {
   "cell_type": "markdown",
   "metadata": {},
   "source": [
    "### Independencia de las variables\n",
    "¿son independientes género y clase?  \n",
    "Si lo son debe cumplirse la igualdad $P(G,C)=P(G)*P(C)$  \n",
    "Lo comprobamos para género='male' y clase=1"
   ]
  },
  {
   "cell_type": "code",
   "execution_count": null,
   "metadata": {},
   "outputs": [],
   "source": [
    "#P(G,C)\n",
    "P_h_c1 = sum(P_titanic[('male',1)]) #P(male, class1)\n",
    "P_h_c1"
   ]
  },
  {
   "cell_type": "code",
   "execution_count": null,
   "metadata": {},
   "outputs": [],
   "source": [
    "#P(G)\n",
    "P_h = P_titanic['male'].sum().sum() #P(male)\n",
    "P_h"
   ]
  },
  {
   "cell_type": "code",
   "execution_count": null,
   "metadata": {},
   "outputs": [],
   "source": [
    "#P(C)\n",
    "P_c1 = P_titanic.xs(1, axis=1, level='Pclass').sum().sum() #P(class1)\n",
    "P_c1"
   ]
  },
  {
   "cell_type": "code",
   "execution_count": null,
   "metadata": {},
   "outputs": [],
   "source": [
    "#P(G)*P(C)\n",
    "P_h * P_c1"
   ]
  },
  {
   "cell_type": "markdown",
   "metadata": {},
   "source": [
    "La supervicencia por género y clase **No** son independientes.  \n",
    "Otra manera de comprobarlo es mirar si $P(G|C) = P(G)$"
   ]
  },
  {
   "cell_type": "code",
   "execution_count": null,
   "metadata": {},
   "outputs": [],
   "source": [
    "#P(hombre|c1) = P(hombre, clase1) / P(clase1)\n",
    "P_h_c_1 = P_h_c1 / P_c1\n",
    "P_h_c_1"
   ]
  },
  {
   "cell_type": "code",
   "execution_count": null,
   "metadata": {},
   "outputs": [],
   "source": [
    "P_h"
   ]
  },
  {
   "attachments": {},
   "cell_type": "markdown",
   "metadata": {},
   "source": [
    "Es decir, la probabilidad de ser hombre está condicionada por la clase.  \n",
    "Podemos comprobar para ambos sexos a la vez"
   ]
  },
  {
   "cell_type": "code",
   "execution_count": null,
   "metadata": {},
   "outputs": [],
   "source": [
    "p_sex_c = pd.crosstab(index=titanic['Sex'], columns=titanic['Pclass']) / N\n",
    "p_sex_c"
   ]
  },
  {
   "cell_type": "markdown",
   "metadata": {},
   "source": [
    "Calculamos la probabilidad de cada género condicionada a la clase:"
   ]
  },
  {
   "cell_type": "code",
   "execution_count": null,
   "metadata": {},
   "outputs": [],
   "source": [
    "#P(G|C) = P(G,C) / P(C)\n",
    "p_sex_c / p_sex_c.sum()"
   ]
  },
  {
   "cell_type": "code",
   "execution_count": null,
   "metadata": {},
   "outputs": [],
   "source": [
    "#mientras que P(G) es\n",
    "p_sex_c.sum(axis=1)"
   ]
  },
  {
   "attachments": {},
   "cell_type": "markdown",
   "metadata": {},
   "source": [
    "El hecho de ser hombre y viajar en clase 1 no son independientes (la prob. de ser hombre disminuye condicionada a que viajaba en clase 1). Generalizando, la prob. de pertenecer a un sexo depende de la clase en la que se viajaba"
   ]
  },
  {
   "cell_type": "markdown",
   "metadata": {},
   "source": [
    "¿Es independiente probabilidad de supervivencia y clase?  \n",
    "La probabilidad global de supervivencia, $P(S=1)$ es:  "
   ]
  },
  {
   "cell_type": "code",
   "execution_count": null,
   "metadata": {},
   "outputs": [],
   "source": [
    "P_S = P_titanic.loc['yes'].sum() #P(S)\n",
    "\n",
    "P_S"
   ]
  },
  {
   "attachments": {},
   "cell_type": "markdown",
   "metadata": {},
   "source": [
    "Por otro lado la probabilidad de supervivencia condicionada a cada clase es:"
   ]
  },
  {
   "cell_type": "code",
   "execution_count": null,
   "metadata": {},
   "outputs": [],
   "source": [
    "#para todas las clases\n",
    "# P(S|C) = P(S,C) / P(C)\n",
    "P_titanic_surv_class = pd.crosstab(index=titanic[\"Survived\"], columns=titanic[\"Pclass\"])/N\n",
    "P_titanic_surv_class.loc['yes'] / P_titanic_surv_class.sum()"
   ]
  },
  {
   "attachments": {},
   "cell_type": "markdown",
   "metadata": {},
   "source": [
    "Por tanto no es independiente la probabilidad de supervivencia y la clase. ¡sorpresa!  \n",
    "¿Es independiente probabilidad de supervivencia y género?  "
   ]
  },
  {
   "cell_type": "code",
   "execution_count": null,
   "metadata": {},
   "outputs": [],
   "source": [
    "#P(S|G) = P(S,G) / P(G)\n",
    "P_titanic_surv_sex = pd.crosstab(index=titanic[\"Survived\"], columns=titanic[\"Sex\"])/N\n",
    "P_titanic_surv_sex.loc['yes'] / P_titanic_surv_sex.sum()"
   ]
  },
  {
   "attachments": {},
   "cell_type": "markdown",
   "metadata": {},
   "source": [
    "No es independiente porque la probabilidad de supervivencia cambia cuando se condiciona al género."
   ]
  },
  {
   "cell_type": "markdown",
   "metadata": {},
   "source": [
    "## Teorema de Bayes\n",
    "### Ejercicio práctico: sistema de diagnóstico de Meningitis  \n",
    "* La meningitis (M) causa el síntoma de rigidez de cuello (S) en un 50% de los casos: $P(S|M)=0.5$    \n",
    "* Se conoce también la probabilidad a priori de que un paciente tenga meningitis: $P(M)=1/50000$    \n",
    "* Se conoce la probabilidad a priori de que un paciente tenga rigidez de cuello $P(S)=1/20$    \n",
    "\n",
    "Por tanto podemos calcular $P(M|S)$ (probabilidad de que un paciente con rigidez de cuello sufra una meningitis)"
   ]
  },
  {
   "cell_type": "code",
   "execution_count": null,
   "metadata": {},
   "outputs": [],
   "source": [
    "pS_M = 0.5\n",
    "pM = 1/50000\n",
    "pS = 1/20\n",
    "\n",
    "#teorema de Bayes: P(M|S) = P(S|M)*P(M)/P(S)\n",
    "pM_S = (pS_M*pM) / pS\n",
    "pM_S"
   ]
  },
  {
   "cell_type": "code",
   "execution_count": null,
   "metadata": {},
   "outputs": [],
   "source": [
    "#probabilidad a priori de tener meningitis\n",
    "pM"
   ]
  },
  {
   "cell_type": "code",
   "execution_count": null,
   "metadata": {},
   "outputs": [],
   "source": [
    "#probabilidad a posteriori de tener meningitis, dado que se tiene rigidez de cuello\n",
    "pM_S"
   ]
  },
  {
   "attachments": {},
   "cell_type": "markdown",
   "metadata": {},
   "source": [
    "La probabilidad de tener meningitis si se tiene rigidez de cuello aumenta en un factor:\n"
   ]
  },
  {
   "cell_type": "code",
   "execution_count": null,
   "metadata": {},
   "outputs": [],
   "source": [
    "pM_S / pM"
   ]
  },
  {
   "cell_type": "markdown",
   "metadata": {},
   "source": [
    "Ahora evaluamos cómo varía $P(M|S)$ cuando varía $P(S)$ (probabilidad a priori de tener rigidez de cuello)"
   ]
  },
  {
   "cell_type": "code",
   "execution_count": null,
   "metadata": {},
   "outputs": [],
   "source": [
    "pSarray = np.arange(start=1/20, stop=1, step=1/20)\n",
    "pSarray"
   ]
  },
  {
   "cell_type": "code",
   "execution_count": null,
   "metadata": {},
   "outputs": [],
   "source": [
    "pM_Sarray = [pS_M*pM/pS*100 for pS in pSarray] #probabilidad a posteriori de tener meningitis dado rigidez de cuello\n",
    "plt.plot(pSarray * 100, pM_Sarray)\n",
    "plt.xlabel('P(rigidez de cuello) %')\n",
    "plt.ylabel('P(meningitis|rigidez de cuello) %')\n",
    "plt.title('Probabilidad de tener meningitis dado rigidez de cuello')\n",
    "plt.grid()\n",
    "plt.show()"
   ]
  },
  {
   "attachments": {},
   "cell_type": "markdown",
   "metadata": {},
   "source": [
    "Cuando más probable es el síntoma de la rigidez de cuello, menos informativo es para nuestros propósitos (menos probable de que se deba a una meningitis)"
   ]
  },
  {
   "attachments": {},
   "cell_type": "markdown",
   "metadata": {},
   "source": [
    "### Ejercicio práctico: PCR para detectar COVID-19  \n",
    "* Un test PCR tiene una sensibilidad del 93% y una especificidad del 99%    \n",
    "* La prevalencia estimada de COVID-19 es del 10% de la población en general\n",
    "\n",
    "Si una PCR tiene un resultado positivo, ¿cuál es la probabilidad *real* de tener COVID-19? ¿y si el paciente se hace una segunda PCR y también es positiva?  \n",
    "Ayuda:  \n",
    "*sensibilidad = P(PCR|C)* [test positivo cuando se tiene COVID],  \n",
    "*especificidad = P(noPCR|noC)* [test negativo cuando no se tiene COVID]"
   ]
  },
  {
   "cell_type": "code",
   "execution_count": null,
   "metadata": {},
   "outputs": [],
   "source": [
    "# Solución\n"
   ]
  },
  {
   "cell_type": "code",
   "execution_count": null,
   "metadata": {},
   "outputs": [],
   "source": [
    "#segunda PCR positiva\n",
    "\n"
   ]
  },
  {
   "attachments": {},
   "cell_type": "markdown",
   "metadata": {},
   "source": [
    "## Variables aleatorias\n",
    "Una variable aleatoria es una función que asigna un valor numérico a cada posible resultado de un experimento aleatorio (con una determinada distribución de probabilidad). Las variables aleatorias pueden ser `discretas` o `continuas`.  \n",
    "### Variables discretas\n",
    "Suponemos que tenemos un espacio muestral con los números enteros del 1 al 6 (por ejemplo al lanzar un dado de 6 caras).  "
   ]
  },
  {
   "cell_type": "code",
   "execution_count": null,
   "metadata": {},
   "outputs": [],
   "source": [
    "x=np.arange(6)+1\n",
    "x"
   ]
  },
  {
   "cell_type": "markdown",
   "metadata": {},
   "source": [
    "Selección de muestras al azar (de manera aleatoria uniforme)"
   ]
  },
  {
   "cell_type": "code",
   "execution_count": null,
   "metadata": {},
   "outputs": [],
   "source": [
    "np.random.seed(12345) #fijamos una semilla aleatoria"
   ]
  },
  {
   "cell_type": "code",
   "execution_count": null,
   "metadata": {},
   "outputs": [],
   "source": [
    "#Permutación de la población\n",
    "np.random.shuffle(x) #Ojo, no devuelve un array sino que modifica el original\n",
    "x"
   ]
  },
  {
   "cell_type": "code",
   "execution_count": null,
   "metadata": {},
   "outputs": [],
   "source": [
    "#otra manera\n",
    "np.random.permutation(x) #devuelve un array con las permutaciones"
   ]
  },
  {
   "cell_type": "code",
   "execution_count": null,
   "metadata": {},
   "outputs": [],
   "source": [
    "x #no modifica el array original"
   ]
  },
  {
   "cell_type": "code",
   "execution_count": null,
   "metadata": {},
   "outputs": [],
   "source": [
    "#última manera\n",
    "np.random.permutation(6)+1 #genera un array de [0...5] y lo permuta"
   ]
  },
  {
   "cell_type": "markdown",
   "metadata": {},
   "source": [
    "Selección de muestras aleatorias:"
   ]
  },
  {
   "cell_type": "code",
   "execution_count": null,
   "metadata": {},
   "outputs": [],
   "source": [
    "#muestreo de la población sin reemplazo\n",
    "np.random.choice(x, 3, replace=False)"
   ]
  },
  {
   "cell_type": "code",
   "execution_count": null,
   "metadata": {},
   "outputs": [],
   "source": [
    "#muestreo con reemplazo\n",
    "np.random.choice(x, 10, replace=True)"
   ]
  },
  {
   "cell_type": "code",
   "execution_count": null,
   "metadata": {},
   "outputs": [],
   "source": [
    "#repetición del experimento 10 veces\n",
    "a=[np.random.choice(x, 3, replace=False) for i in range(10)]\n",
    "a"
   ]
  },
  {
   "cell_type": "code",
   "execution_count": null,
   "metadata": {},
   "outputs": [],
   "source": [
    "type(a)"
   ]
  },
  {
   "cell_type": "code",
   "execution_count": null,
   "metadata": {},
   "outputs": [],
   "source": [
    "#como array 2D de Numpy\n",
    "a=np.array([np.random.choice(x, 3, replace=False) for i in range(10)])\n",
    "a"
   ]
  },
  {
   "cell_type": "code",
   "execution_count": null,
   "metadata": {},
   "outputs": [],
   "source": [
    "type(a)"
   ]
  },
  {
   "cell_type": "code",
   "execution_count": null,
   "metadata": {},
   "outputs": [],
   "source": [
    "#¿qué dimensiones tiene este array?\n",
    "a.shape"
   ]
  },
  {
   "cell_type": "markdown",
   "metadata": {},
   "source": [
    "## Distribuciones de probabilidad"
   ]
  },
  {
   "attachments": {},
   "cell_type": "markdown",
   "metadata": {},
   "source": [
    "La distribución de probabilidad (PMF de sus siglas en inglés) de una variable discreta es una lista de las probabilidades asociadas a cada valor posible.  \n",
    "La función de distribución acumulativa (CDF) indica la probabilidad de que una variable aleatoria X sea menor o igual que x.  \n",
    "En Python, podemos generar muestras aleatorias -valores experimentales- para distintas funciones de distribución con el paquete `numpy.random.Generator` (https://numpy.org/doc/stable/reference/random/generator.html).  \n",
    "Podemos calcular la PMF y la CDF de distintas distribuciones -valores teóricos- con el paquete `scipy.stats` (https://docs.scipy.org/doc/scipy/reference/stats.html)  "
   ]
  },
  {
   "cell_type": "markdown",
   "metadata": {},
   "source": [
    "## Distribuciones discretas\n",
    "### Distribución uniforme\n",
    "Simulamos la generación de N valores aleatorios para una distribución continua uniforme de números enteros entre 0 y 9"
   ]
  },
  {
   "cell_type": "code",
   "execution_count": null,
   "metadata": {},
   "outputs": [],
   "source": [
    "N = 10_000\n",
    "size = 10\n",
    "s = np.random.choice(np.arange(size), N, replace=True)\n",
    "s.shape"
   ]
  },
  {
   "cell_type": "code",
   "execution_count": null,
   "metadata": {},
   "outputs": [],
   "source": [
    "s[:10]"
   ]
  },
  {
   "cell_type": "code",
   "execution_count": null,
   "metadata": {},
   "outputs": [],
   "source": [
    "#frecuencia de cada número\n",
    "counts = np.unique(s, return_counts=True)\n",
    "counts"
   ]
  },
  {
   "cell_type": "markdown",
   "metadata": {},
   "source": [
    "#### Distribución de probabilidad"
   ]
  },
  {
   "cell_type": "code",
   "execution_count": null,
   "metadata": {},
   "outputs": [],
   "source": [
    "fig, ax = plt.subplots()\n",
    "ax = sns.barplot(x=counts[0], y=counts[1]/N, label='Simulación', color='b')\n",
    "ax.set_xlabel(\"Valor\",fontsize=12)\n",
    "ax.set_ylabel(\"Probabilidad\",fontsize=12)\n",
    "x = range(size)\n",
    "ax.plot(x, np.ones(size)/size, 'ro', label='PMF uniforme')\n",
    "ax.vlines(x, 0, np.ones(size)/size, 'r', lw=5, alpha=0.5)\n",
    "plt.legend()\n",
    "plt.title(\"Distribución de probabilidad uniforme\")\n",
    "plt.show()"
   ]
  },
  {
   "cell_type": "markdown",
   "metadata": {},
   "source": [
    "#### Función de probabilidad acumulada (CDF)"
   ]
  },
  {
   "cell_type": "code",
   "execution_count": null,
   "metadata": {},
   "outputs": [],
   "source": [
    "#frecuencia acumulada\n",
    "counts[1].cumsum()"
   ]
  },
  {
   "cell_type": "code",
   "execution_count": null,
   "metadata": {},
   "outputs": [],
   "source": [
    "#normalizamos\n",
    "cdf = counts[1].cumsum() / N\n",
    "cdf"
   ]
  },
  {
   "cell_type": "code",
   "execution_count": null,
   "metadata": {},
   "outputs": [],
   "source": [
    "plt.subplots()\n",
    "plt.plot(counts[0], counts[1].cumsum()/N, 'bo-' , label='Simulación')\n",
    "plt.xlabel(\"Valor\",fontsize=12)\n",
    "plt.ylabel(\"CDF\",fontsize=12)\n",
    "plt.plot(x, (np.ones(size)/size).cumsum(), 'r*-', label='CDF uniforme')\n",
    "plt.legend()\n",
    "plt.title(\"CDF probabilidad uniforme\")\n",
    "plt.grid()\n",
    "plt.show()"
   ]
  },
  {
   "attachments": {},
   "cell_type": "markdown",
   "metadata": {},
   "source": [
    "### Distribución binomial\n",
    "P. ej. si la probabilidad de que suceda un evento (acierto) es p=0.3 y repetimos el evento 10 veces, ¿cuál es la probabilidad de que suceda el evento $x$ veces ( $PMF(x, n=10, p=0,3)$ )?  \n",
    "Lo simulamos con `np.random.default_rng().binomial`.  \n",
    "Podemos calcular el valor teórico del la PMF con el método `pmf` de la clase `scipy.stats.binom`."
   ]
  },
  {
   "cell_type": "markdown",
   "metadata": {},
   "source": [
    "Hay que instalar `scipy` con\n",
    "```!pip install scipy```"
   ]
  },
  {
   "cell_type": "code",
   "execution_count": null,
   "metadata": {},
   "outputs": [],
   "source": [
    "from scipy.stats import binom\n",
    "size = 10_000 #nº de veces que repetimos la simulación\n",
    "n = 10\n",
    "p = 0.3\n",
    "s = np.random.default_rng().binomial(n, p, size)"
   ]
  },
  {
   "cell_type": "code",
   "execution_count": null,
   "metadata": {},
   "outputs": [],
   "source": [
    "s.shape"
   ]
  },
  {
   "cell_type": "code",
   "execution_count": null,
   "metadata": {},
   "outputs": [],
   "source": [
    "s[:10]"
   ]
  },
  {
   "cell_type": "code",
   "execution_count": null,
   "metadata": {},
   "outputs": [],
   "source": [
    "np.unique(s, return_counts=True)"
   ]
  },
  {
   "attachments": {},
   "cell_type": "markdown",
   "metadata": {},
   "source": [
    "P. ej. valor teórico de la PMF de una distribución binomial (n=10, p=0.3) para el evento 0 (probabilidad de que ocurran 0 eventos para 10 ejecuciones):"
   ]
  },
  {
   "cell_type": "code",
   "execution_count": null,
   "metadata": {},
   "outputs": [],
   "source": [
    "binom.pmf(0, n, p)"
   ]
  },
  {
   "cell_type": "markdown",
   "metadata": {},
   "source": [
    "Convirtiendo probabilidad en nº de ocurrencias para las N realizaciones del experimento"
   ]
  },
  {
   "cell_type": "code",
   "execution_count": null,
   "metadata": {},
   "outputs": [],
   "source": [
    "binom.pmf(0, n, p) * size"
   ]
  },
  {
   "cell_type": "code",
   "execution_count": null,
   "metadata": {},
   "outputs": [],
   "source": [
    "fig, ax = plt.subplots()\n",
    "ax = sns.countplot(x=s, label='Simulación', color='b')\n",
    "ax.set_xlabel(\"Número de aciertos\",fontsize=12)\n",
    "ax.set_ylabel(\"Frecuencia\",fontsize=12)\n",
    "x = range(n+1)\n",
    "ax.plot(x, binom.pmf(x, n, p)*size, 'ro', label='PMF binomial')\n",
    "ax.vlines(x, 0, binom.pmf(x, n, p)*size, colors='r', lw=5, alpha=0.5)\n",
    "plt.legend()\n",
    "plt.title(\"Distribución de probabilidad binomial (p=0.3, n=10)\")\n",
    "plt.show()"
   ]
  },
  {
   "cell_type": "markdown",
   "metadata": {},
   "source": [
    "Calculamos el CDF (simulado y teórico) de la distribución binomial"
   ]
  },
  {
   "cell_type": "code",
   "execution_count": null,
   "metadata": {},
   "outputs": [],
   "source": [
    "#CDF simulado\n",
    "#normalizamos frecuencias a probabilidad\n",
    "prob=pd.Series(s).value_counts().sort_index()/size\n",
    "prob"
   ]
  },
  {
   "cell_type": "code",
   "execution_count": null,
   "metadata": {},
   "outputs": [],
   "source": [
    "#prob. acumulada\n",
    "prob.cumsum()"
   ]
  },
  {
   "cell_type": "code",
   "execution_count": null,
   "metadata": {},
   "outputs": [],
   "source": [
    "#CDF teórica\n",
    "binom.cdf(range(n+1), n, p)"
   ]
  },
  {
   "cell_type": "code",
   "execution_count": null,
   "metadata": {},
   "outputs": [],
   "source": [
    "fig, ax = plt.subplots()\n",
    "ax = prob.cumsum().plot(label='Simulación', style='bo-')\n",
    "ax.set_xlabel(\"Número de aciertos\",fontsize=12)\n",
    "ax.set_ylabel(\"CDF\",fontsize=12)\n",
    "x = range(n+1)\n",
    "ax.plot(x, binom.cdf(x, n, p), 'r*-', label='CDF binomial')\n",
    "plt.legend()\n",
    "plt.title(\"CDF probabilidad binomial (p=0.3, n=10)\")\n",
    "plt.grid()\n",
    "plt.show()"
   ]
  },
  {
   "cell_type": "code",
   "execution_count": null,
   "metadata": {},
   "outputs": [],
   "source": [
    "#Probabilidad de tener entre 4 y 7 aciertos\n",
    "binom.cdf(7, n, p)-binom.cdf(3, n, p)"
   ]
  },
  {
   "cell_type": "markdown",
   "metadata": {},
   "source": [
    "Comparamos con el valor simulado"
   ]
  },
  {
   "cell_type": "code",
   "execution_count": null,
   "metadata": {},
   "outputs": [],
   "source": [
    "np.sum((s>3) & (s<=7))/size"
   ]
  },
  {
   "cell_type": "code",
   "execution_count": null,
   "metadata": {},
   "outputs": [],
   "source": [
    "#Probabilidad acertar 3 o menos veces\n",
    "binom.cdf(3, n, p)"
   ]
  },
  {
   "cell_type": "code",
   "execution_count": null,
   "metadata": {},
   "outputs": [],
   "source": [
    "#al lanzar una moneda 100 veces, ¿cuál es la probabilidad de que salga exactamente 50 caras?\n",
    "binom.pmf(50, 100, 0.5)"
   ]
  },
  {
   "cell_type": "code",
   "execution_count": null,
   "metadata": {},
   "outputs": [],
   "source": [
    "#al lanzar una moneda 100 veces, ¿cuál es la probabilidad de que salga 50 caras o menos?\n",
    "binom.cdf(50, 100, 0.5)"
   ]
  },
  {
   "cell_type": "markdown",
   "metadata": {},
   "source": [
    "### Ejercicio\n",
    "Al lanzar una moneda 100 veces, ¿cuál es la probabilidad de que salgan más de 50 caras?"
   ]
  },
  {
   "cell_type": "code",
   "execution_count": null,
   "metadata": {},
   "outputs": [],
   "source": [
    "#Solución\n",
    "1 - binom.cdf(50, 100, 0.5)"
   ]
  },
  {
   "cell_type": "markdown",
   "metadata": {},
   "source": [
    "Al lanzar una moneda 100 veces, ¿cuál es la probabilidad de que salgan entre 45 y 55 caras?"
   ]
  },
  {
   "cell_type": "code",
   "execution_count": null,
   "metadata": {},
   "outputs": [],
   "source": [
    "#Solución\n",
    "binom.cdf(55,100,0.5) - binom.cdf(44,100,0.5)"
   ]
  },
  {
   "attachments": {},
   "cell_type": "markdown",
   "metadata": {},
   "source": [
    "#### Valor esperado\n",
    "El valor esperado de una variable aleatoria es el valor medio que toma la variable para un gran número de ejecuciones. Se define como:  \n",
    "\\begin{align}\n",
    "E[X]=\\sum{xp(x)} \n",
    "\\end{align}\n",
    "Calculamos el valor esperado en una variable con distribución binomial:"
   ]
  },
  {
   "cell_type": "code",
   "execution_count": null,
   "metadata": {},
   "outputs": [],
   "source": [
    "fig, ax = plt.subplots()\n",
    "ax.vlines(prob.index, 0, prob, colors='r', lw=5, alpha=0.5)\n",
    "ax.set_xlabel(\"Número de aciertos\",fontsize=12)\n",
    "ax.set_ylabel(\"Probabilidad\",fontsize=12)\n",
    "plt.title(\"PMF simulada binomial (p=0.3, n=10)\")\n",
    "plt.grid(True)\n",
    "plt.show()"
   ]
  },
  {
   "cell_type": "code",
   "execution_count": null,
   "metadata": {},
   "outputs": [],
   "source": [
    "#valor esperado a partir de la simulación\n",
    "E=sum(prob.index*prob)\n",
    "E"
   ]
  },
  {
   "cell_type": "code",
   "execution_count": null,
   "metadata": {},
   "outputs": [],
   "source": [
    "#valor esperado (teórico)\n",
    "x=range(n+1)\n",
    "E=sum(x*binom.pmf(x, n, p))\n",
    "E"
   ]
  },
  {
   "cell_type": "code",
   "execution_count": null,
   "metadata": {},
   "outputs": [],
   "source": [
    "s.mean() #el valor esperado coincide con la media muestral"
   ]
  },
  {
   "attachments": {},
   "cell_type": "markdown",
   "metadata": {},
   "source": [
    "#### Ejemplo\n",
    "Si realizamos un cuestionario con n=10 preguntas con 4 opciones cada respuesta, y la persona que realiza la prueba responde al azar, ¿Cuál es la nota esperada? ¿cuál es la probabilidad de aprobar? ¿Y si penalizamos con 0.25 puntos la respuesta equivocada?"
   ]
  },
  {
   "cell_type": "code",
   "execution_count": null,
   "metadata": {},
   "outputs": [],
   "source": [
    "#Solución: sin penalización\n",
    "n = 10\n",
    "p = 1/4\n",
    "#la probabilidad de acertar x preguntas sigue una distribución binomial\n",
    "x = range(n+1)\n",
    "p_x = binom.pmf(x, n, p)"
   ]
  },
  {
   "cell_type": "code",
   "execution_count": null,
   "metadata": {},
   "outputs": [],
   "source": [
    "plt.plot(x, p_x, 'ro', )\n",
    "plt.vlines(x, 0, p_x, colors='r', lw=5, alpha=0.5)\n",
    "plt.xlabel(\"Número de aciertos\",fontsize=12)\n",
    "plt.ylabel(\"Probabilidad\",fontsize=12)\n",
    "plt.title(\"PMF teórica\")\n",
    "plt.grid()\n",
    "plt.show()"
   ]
  },
  {
   "cell_type": "code",
   "execution_count": null,
   "metadata": {},
   "outputs": [],
   "source": [
    "#la nota esperada es la suma de cada x por su probabilidad\n",
    "nota_esperada = np.sum(x*p_x)\n",
    "nota_esperada"
   ]
  },
  {
   "cell_type": "code",
   "execution_count": null,
   "metadata": {},
   "outputs": [],
   "source": [
    "#Simular 1000 exámenes y obtener la nota media de todos los exámenes\n",
    "\n",
    "size = 1000\n",
    "n = 10\n",
    "p = 1/4\n",
    "s = np.random.default_rng().binomial(n, p, size)\n",
    "s.mean()"
   ]
  },
  {
   "cell_type": "code",
   "execution_count": null,
   "metadata": {},
   "outputs": [],
   "source": [
    "#¿cuál es la probabilidad de sacar al menos un 3?\n",
    "1-binom.cdf(2, n, p) #Hay que acertar más de 2 preguntas"
   ]
  },
  {
   "cell_type": "code",
   "execution_count": null,
   "metadata": {},
   "outputs": [],
   "source": [
    "#¿cuál es la prob de aprobar?\n",
    "#hay que acertar más de 4 preguntas\n",
    "1-binom.cdf(4, n, p) "
   ]
  },
  {
   "cell_type": "markdown",
   "metadata": {},
   "source": [
    "Aplicando penalización a las respuestas incorrectas"
   ]
  },
  {
   "cell_type": "code",
   "execution_count": null,
   "metadata": {},
   "outputs": [],
   "source": [
    "#Representamos Nota final con penalización según nº de aciertos\n",
    "plt.plot(x-np.array(range(n, -1, -1))*1/4, 'bo') #nota en función de aciertos menos penalización por los fallos\n",
    "plt.axhline(y=5, color='red') #en rojo el mínimo para aprobar\n",
    "plt.xlabel('Nº de aciertos')\n",
    "plt.ylabel('Nota')\n",
    "plt.title('Nota final con penalización')\n",
    "plt.grid()\n",
    "plt.show()"
   ]
  },
  {
   "cell_type": "code",
   "execution_count": null,
   "metadata": {},
   "outputs": [],
   "source": [
    "#a la nota esperada al acertar hay que restar la nota esperada de los fallos\n",
    "nota_esperada = np.sum(x*p_x) - np.sum(np.array(range(n, -1, -1))*p_x*1/4)\n",
    "nota_esperada"
   ]
  },
  {
   "attachments": {},
   "cell_type": "markdown",
   "metadata": {},
   "source": [
    "Hace falta acertar al menos 6 preguntas para aprobar:"
   ]
  },
  {
   "cell_type": "code",
   "execution_count": null,
   "metadata": {},
   "outputs": [],
   "source": [
    "#nota obtenida según nº de aciertos\n",
    "pd.Series(x-np.array(range(n, -1, -1))*1/4)"
   ]
  },
  {
   "attachments": {},
   "cell_type": "markdown",
   "metadata": {},
   "source": [
    "Con penalización, ¿cuál es la prob. de sacar más de 3?"
   ]
  },
  {
   "cell_type": "code",
   "execution_count": null,
   "metadata": {},
   "outputs": [],
   "source": [
    "#hace falta al menos acertar 5 preguntas (nota: 3,75)\n",
    "1-binom.cdf(4, n, p)"
   ]
  },
  {
   "attachments": {},
   "cell_type": "markdown",
   "metadata": {},
   "source": [
    "Probabilidad de aprobar con penalización. Hay que acertar al menos 6 preguntas"
   ]
  },
  {
   "cell_type": "code",
   "execution_count": null,
   "metadata": {},
   "outputs": [],
   "source": [
    "1-binom.cdf(5, n, p) #prob. acumulada de acercar 6 o más preguntas"
   ]
  },
  {
   "cell_type": "markdown",
   "metadata": {},
   "source": [
    "### Distribución multinomial\n",
    "Es una generalización de la distribución binomial, en la que cada experimento puede tomar un valor de entre  $p$  valores posibles.  \n",
    "Ejemplo: si lanzamos un dado (equilibrado) 18 veces, ¿cuántas veces sale cada cara?"
   ]
  },
  {
   "cell_type": "code",
   "execution_count": null,
   "metadata": {},
   "outputs": [],
   "source": [
    "p = [1/6]*6 #probabilidad de cada cara\n",
    "p"
   ]
  },
  {
   "cell_type": "code",
   "execution_count": null,
   "metadata": {},
   "outputs": [],
   "source": [
    "#valor esperado en el lanzamiento de un dado\n",
    "\n",
    "E = sum((np.arange(6)+1)*p)\n",
    "E"
   ]
  },
  {
   "cell_type": "code",
   "execution_count": null,
   "metadata": {},
   "outputs": [],
   "source": [
    " #valor obtenido en simulación (1000 lanzamientos)\n",
    "np.random.choice(np.arange(6)+1, 1000, replace=True).mean()"
   ]
  },
  {
   "cell_type": "code",
   "execution_count": null,
   "metadata": {},
   "outputs": [],
   "source": [
    "#nº de veces que sale cada cara al lanzar 18 veces el dado\n",
    "#en una única jugada aleatoria (size=1)\n",
    "n = 18\n",
    "s = np.random.default_rng().multinomial(n, p, size=1)\n",
    "s #cada posición corresponde a una cara del dado"
   ]
  },
  {
   "cell_type": "code",
   "execution_count": null,
   "metadata": {},
   "outputs": [],
   "source": [
    "np.sum(s)"
   ]
  },
  {
   "cell_type": "markdown",
   "metadata": {},
   "source": [
    "Si repetimos el experimento muchas veces, dado que la probabilidad es igual para todo los lados, la tendencia es a tener una distribución uniforme de valores"
   ]
  },
  {
   "cell_type": "code",
   "execution_count": null,
   "metadata": {},
   "outputs": [],
   "source": [
    "s = np.random.default_rng().multinomial(n, p, size=1000)"
   ]
  },
  {
   "cell_type": "code",
   "execution_count": null,
   "metadata": {},
   "outputs": [],
   "source": [
    "s.shape"
   ]
  },
  {
   "cell_type": "code",
   "execution_count": null,
   "metadata": {},
   "outputs": [],
   "source": [
    "np.mean(s, axis=0) #media de las veces que sale cada cara para 1000 experimentos"
   ]
  },
  {
   "cell_type": "markdown",
   "metadata": {},
   "source": [
    "La esperanza teórica de cada cara para 18 tiradas es:"
   ]
  },
  {
   "cell_type": "code",
   "execution_count": null,
   "metadata": {},
   "outputs": [],
   "source": [
    "np.array(p) * n"
   ]
  },
  {
   "cell_type": "code",
   "execution_count": null,
   "metadata": {},
   "outputs": [],
   "source": [
    "# Probabilidad teórica de que salgan exactamente 3 veces cada cara en 18 tiradas es:\n",
    "from scipy.stats import multinomial\n",
    "multinomial.pmf([3,3,3,3,3,3], n, p)\n"
   ]
  },
  {
   "cell_type": "code",
   "execution_count": null,
   "metadata": {},
   "outputs": [],
   "source": [
    "# Probabilidad teórica de que salgan 4,2,3,3,3,3 veces cada cara en 18 tiradas es:\n",
    "multinomial.pmf([4,2,3,3,3,3], n, p)"
   ]
  },
  {
   "cell_type": "markdown",
   "metadata": {},
   "source": [
    "Comparamos con el número de veces que ocurre esto en nuestra simulación"
   ]
  },
  {
   "cell_type": "code",
   "execution_count": null,
   "metadata": {},
   "outputs": [],
   "source": [
    "counts = np.sum((s == [4,2,3,3,3,3]).all(axis=1))\n",
    "counts/10000"
   ]
  },
  {
   "cell_type": "code",
   "execution_count": null,
   "metadata": {},
   "outputs": [],
   "source": [
    "# Simulación con más repeticiones\n",
    "size = 100_000\n",
    "s = np.random.default_rng().multinomial(n, p, size=size)\n",
    "counts = np.sum((s == [4,2,3,3,3,3]).all(axis=1))\n",
    "counts/size"
   ]
  },
  {
   "cell_type": "code",
   "execution_count": null,
   "metadata": {},
   "outputs": [],
   "source": [
    "s = np.random.default_rng().multinomial(n, p, size=1000)\n",
    "\n",
    "plt.bar(x=np.arange(6)+1, height=np.mean(s, axis=0), label=\"simulación\")\n",
    "plt.axhline(y=n/6, color='red', label=\"Prob. teórica\")\n",
    "plt.xlabel('Valor del dado')\n",
    "plt.ylabel('Nº de veces (media)')\n",
    "plt.title('Media de las veces que sale cada cara')\n",
    "plt.legend()\n",
    "\n",
    "plt.show()"
   ]
  },
  {
   "attachments": {},
   "cell_type": "markdown",
   "metadata": {},
   "source": [
    "Suponemos un dado trucado en el que el 4 tiene el doble de probabilidad de salir que el resto de caras:"
   ]
  },
  {
   "cell_type": "code",
   "execution_count": null,
   "metadata": {},
   "outputs": [],
   "source": [
    "#Calculamos la probabilidad de cada evento (cada una de las caras)\n",
    "prob = [1,1,1,2,1,1]\n",
    "p=np.array(prob)/sum(prob) #normalizamos las probabilidades\n",
    "p"
   ]
  },
  {
   "cell_type": "code",
   "execution_count": null,
   "metadata": {},
   "outputs": [],
   "source": [
    "#valor esperado teórico en el lanzamiento de un dado trucado (con esta probabilidad)\n",
    "\n",
    "E = sum((np.arange(6)+1)*p)\n",
    "E"
   ]
  },
  {
   "cell_type": "code",
   "execution_count": null,
   "metadata": {},
   "outputs": [],
   "source": [
    "#valor simulado tras 10_000 jugadas\n",
    "tirada = np.sum(np.random.default_rng().multinomial(1, p, size=10_000)*(np.arange(6)+1), axis=1)\n",
    "np.mean(tirada)"
   ]
  },
  {
   "cell_type": "code",
   "execution_count": null,
   "metadata": {},
   "outputs": [],
   "source": [
    "np.random.default_rng().multinomial(n, p, size=1) #una jugada"
   ]
  },
  {
   "cell_type": "code",
   "execution_count": null,
   "metadata": {},
   "outputs": [],
   "source": [
    "s = np.random.default_rng().multinomial(n, p, size=1000) #repetimos 1000 veces el experimento\n",
    "s.mean(axis=0)"
   ]
  },
  {
   "cell_type": "code",
   "execution_count": null,
   "metadata": {},
   "outputs": [],
   "source": [
    "plt.bar(x=np.arange(6)+1, height=np.mean(s, axis=0), label=\"Dado trucado\")\n",
    "plt.axhline(y=20/6, color='red', label=\"Dado equilibrado (teórico)\")\n",
    "plt.xlabel('Valor del dado')\n",
    "plt.ylabel('Nº de veces (media)')\n",
    "plt.title('Media de las veces que sale cada cara')\n",
    "plt.legend()\n",
    "plt.show()"
   ]
  },
  {
   "cell_type": "markdown",
   "metadata": {},
   "source": [
    "### Distribución de Poisson\n",
    "Es una generalización de la distribución binomial para valores grandes de $N$ con una $p$ pequeña.  \n",
    "#### Ejemplo:\n",
    "Nº de coches que pasan por una carretera en 1 hora para una estimación de 100 coches/hora"
   ]
  },
  {
   "cell_type": "code",
   "execution_count": null,
   "metadata": {},
   "outputs": [],
   "source": [
    "from scipy.stats import poisson\n",
    "\n",
    "lam = 100 #coches por hora\n",
    "N=10_000\n",
    "s = np.random.default_rng().poisson(lam, size=N) #simulamos 10000 repeticiones"
   ]
  },
  {
   "cell_type": "code",
   "execution_count": null,
   "metadata": {},
   "outputs": [],
   "source": [
    "s[:10]"
   ]
  },
  {
   "cell_type": "code",
   "execution_count": null,
   "metadata": {},
   "outputs": [],
   "source": [
    "s.shape"
   ]
  },
  {
   "cell_type": "code",
   "execution_count": null,
   "metadata": {},
   "outputs": [],
   "source": [
    "len(np.unique(s))"
   ]
  },
  {
   "cell_type": "code",
   "execution_count": null,
   "metadata": {},
   "outputs": [],
   "source": [
    "[s.min(), s.max()]"
   ]
  },
  {
   "cell_type": "code",
   "execution_count": null,
   "metadata": {},
   "outputs": [],
   "source": [
    "poisson.pmf(100, lam) #probabilidad de que pasen exactamente 100 coches/hora"
   ]
  },
  {
   "cell_type": "markdown",
   "metadata": {},
   "source": [
    "Rango de coches entre el 1% y el 99% de las veces (percentiles 0.01 y 0.99)"
   ]
  },
  {
   "cell_type": "code",
   "execution_count": null,
   "metadata": {},
   "outputs": [],
   "source": [
    "percentiles = [poisson.ppf(0.01, lam), poisson.ppf(0.99, lam)] #percentiles de coches por hora\n",
    "percentiles"
   ]
  },
  {
   "cell_type": "code",
   "execution_count": null,
   "metadata": {},
   "outputs": [],
   "source": [
    "count, bins, ignored = plt.hist(s, 20, density=True, label='Simulación')\n",
    "x = np.arange(percentiles[0], percentiles[1])\n",
    "plt.plot(x, poisson.pmf(x, lam), linewidth=2, color='r', label='PMF Poisson')\n",
    "plt.xlabel(\"Nº coches/hora\")\n",
    "plt.ylabel(\"Probabilidad\")\n",
    "plt.title(\"Distribución de coches por hora\")\n",
    "plt.legend()\n",
    "plt.show()"
   ]
  },
  {
   "cell_type": "code",
   "execution_count": null,
   "metadata": {},
   "outputs": [],
   "source": [
    "\n",
    "sum(np.isin(s, x))/N"
   ]
  },
  {
   "cell_type": "code",
   "execution_count": null,
   "metadata": {},
   "outputs": [],
   "source": [
    "#CDF\n",
    "fig, ax = plt.subplots()\n",
    "ax.plot(bins[1:], count.cumsum()/count.sum(), 'o-', label='Simulación')\n",
    "ax.set_xlabel(\"Nº coches/hora\",fontsize=12)\n",
    "ax.set_ylabel(\"CDF\",fontsize=12)\n",
    "ax.plot(x, poisson.cdf(x, lam), linewidth=2, color='r', label='CDF Poisson')\n",
    "plt.legend()\n",
    "plt.title(\"CDF simulada y teórica\")\n",
    "plt.grid()\n",
    "plt.show()"
   ]
  },
  {
   "cell_type": "code",
   "execution_count": null,
   "metadata": {},
   "outputs": [],
   "source": [
    "#Probabilidad de que pasen más de 120 coches en una hora\n",
    "1 - poisson.cdf(120, lam)"
   ]
  },
  {
   "cell_type": "code",
   "execution_count": null,
   "metadata": {},
   "outputs": [],
   "source": [
    "#¿cuál es la posibilidad de que pasen entre 90 y 110 coches en una hora?\n",
    "\n",
    "poisson.cdf(110, lam)-poisson.cdf(89, lam)"
   ]
  },
  {
   "cell_type": "markdown",
   "metadata": {},
   "source": [
    "Comparamos con la simulación"
   ]
  },
  {
   "cell_type": "code",
   "execution_count": null,
   "metadata": {},
   "outputs": [],
   "source": [
    "np.sum((s>=90) & (s<=110))/N"
   ]
  },
  {
   "attachments": {},
   "cell_type": "markdown",
   "metadata": {},
   "source": [
    "#### Ejemplo 2\n",
    "Imaginad que enviamos un paquete de bits de longitud $n = 10^4$ donde cada bit puede estar corrupto independientemente con una probabilidad $p=10^{-6}$.  \n",
    "¿cuál es la probabilidad de que se reciba un mensaje sin corromper?  \n",
    "Aquí el número de errores esperado por mensaje es $\\lambda=10^4 \\times 10^{-6}=0.01$ luego:  "
   ]
  },
  {
   "cell_type": "code",
   "execution_count": null,
   "metadata": {},
   "outputs": [],
   "source": [
    "lam = 0.01\n",
    "poisson.pmf(0, lam) #probabilidad de 0 eventos de error"
   ]
  },
  {
   "cell_type": "code",
   "execution_count": null,
   "metadata": {},
   "outputs": [],
   "source": [
    "#probabilidad de algún error\n",
    "1-poisson.pmf(0, lam)"
   ]
  },
  {
   "cell_type": "code",
   "execution_count": null,
   "metadata": {},
   "outputs": [],
   "source": [
    "#Probabilidad de tener N bits erróneos\n",
    "x = np.arange(10)\n",
    "plt.plot(x, poisson.pmf(x, lam), 'ro')\n",
    "plt.vlines(x, 0, poisson.pmf(x, lam), colors='r', lw=5, alpha=0.5)\n",
    "plt.xlabel(\"Nº bits erróneos\")\n",
    "plt.ylabel(\"Probabilidad\")\n",
    "plt.title(\"probabilidad de bits erróneos\")\n",
    "plt.grid()\n",
    "plt.show()"
   ]
  },
  {
   "cell_type": "markdown",
   "metadata": {},
   "source": [
    "### Ejemplo 3\n",
    "Analizamos los homicidios cometidos en Inglaterra y Gales entre 2013 y 2016 (https://www.ons.gov.uk/peoplepopulationandcommunity/crimeandjustice/compendium/focusonviolentcrimeandsexualoffences/yearendingmarch2016/homicide#statistical-interpretation-of-trends-in-homicides).  \n",
    "Vemos cómo el nº de homicidios por día sigue una estadística de Poisson (tomando como $\\lambda$ la media de homicidios/día en ese período)."
   ]
  },
  {
   "cell_type": "code",
   "execution_count": null,
   "metadata": {},
   "outputs": [],
   "source": [
    "homicidios = pd.read_csv(\"homicidios.csv\")\n",
    "homicidios"
   ]
  },
  {
   "cell_type": "markdown",
   "metadata": {},
   "source": [
    "Calculamos la media de homicidios/día y sacamos la distribución de Poisson para comparar"
   ]
  },
  {
   "cell_type": "code",
   "execution_count": null,
   "metadata": {},
   "outputs": [],
   "source": [
    "total = np.sum(homicidios['Homicides']*homicidios['Occurences'])\n",
    "media = total / 365 / 3 #período de 3 años\n",
    "print(f'Ha habido un total de {total} homicidios, con una media de {media:.3f} homicidios/día')"
   ]
  },
  {
   "cell_type": "code",
   "execution_count": null,
   "metadata": {},
   "outputs": [],
   "source": [
    "homicidios[\"estimados\"] = poisson.pmf(homicidios['Homicides'], media) * (365*3)\n",
    "homicidios"
   ]
  },
  {
   "cell_type": "code",
   "execution_count": null,
   "metadata": {},
   "outputs": [],
   "source": [
    "fig, ax = plt.subplots()\n",
    "plt.bar(x=homicidios.Homicides, height=homicidios.Occurences, color='b', label=\"Observado\")\n",
    "ax.vlines(homicidios.Homicides, 0, homicidios.estimados, colors='r', lw=5, alpha=0.5, label=\"Estimado\")\n",
    "plt.plot(homicidios.Homicides, homicidios.estimados, 'ro')\n",
    "ax.set_xlabel(\"Número de homicidios/día\",fontsize=12)\n",
    "ax.set_ylabel(\"Ocurrencia\",fontsize=12)\n",
    "plt.legend()\n",
    "plt.title(\"Distribución de homicidios observados y estimados\")\n",
    "plt.show()"
   ]
  },
  {
   "cell_type": "markdown",
   "metadata": {},
   "source": [
    "¿Cuál es la probabilidad teórica de que un día cualquiera se produzcan 3 homicidios?"
   ]
  },
  {
   "cell_type": "code",
   "execution_count": null,
   "metadata": {},
   "outputs": [],
   "source": [
    "#Solución\n",
    "poisson.pmf(3, media)"
   ]
  },
  {
   "cell_type": "code",
   "execution_count": null,
   "metadata": {},
   "outputs": [],
   "source": [
    "#Valor medido\n",
    "homicidios.loc[3, \"Occurences\"] / 365 / 3"
   ]
  },
  {
   "cell_type": "markdown",
   "metadata": {},
   "source": [
    "¿Cuántos días al año no se producirá ningún homicidio -teóricamente-?"
   ]
  },
  {
   "cell_type": "code",
   "execution_count": null,
   "metadata": {},
   "outputs": [],
   "source": [
    "#Solución\n",
    "poisson.pmf(0, media) * 365"
   ]
  },
  {
   "cell_type": "code",
   "execution_count": null,
   "metadata": {},
   "outputs": [],
   "source": [
    "#Valor medido\n",
    "homicidios.loc[0, \"Occurences\"] / 3"
   ]
  },
  {
   "cell_type": "markdown",
   "metadata": {},
   "source": [
    "## Distribuciones continuas\n",
    "### Distribución uniforme\n",
    "Lo podemos simular con `np.random.Generator.uniform`\n"
   ]
  },
  {
   "cell_type": "code",
   "execution_count": null,
   "metadata": {},
   "outputs": [],
   "source": [
    "size = 1000\n",
    "s = np.random.default_rng().uniform(size=size) #por defecto genera el rango [0,1)"
   ]
  },
  {
   "cell_type": "code",
   "execution_count": null,
   "metadata": {},
   "outputs": [],
   "source": [
    "s[:10]"
   ]
  },
  {
   "cell_type": "code",
   "execution_count": null,
   "metadata": {},
   "outputs": [],
   "source": [
    "count, bins, ignored = plt.hist(s, 10, density=True, label='Simulación')\n",
    "plt.axhline(y=1, linewidth=2, color='r', label='PDF uniforme')\n",
    "plt.legend()\n",
    "plt.xlabel('x')\n",
    "plt.ylabel('Probabilidad')\n",
    "plt.title('Distribución uniforme')\n",
    "plt.show()"
   ]
  },
  {
   "cell_type": "code",
   "execution_count": null,
   "metadata": {},
   "outputs": [],
   "source": [
    "#CDF\n",
    "plt.plot(bins[1:], count.cumsum()/np.sum(count), 'o-')\n",
    "plt.plot([0,1], [0,1], 'r')\n",
    "plt.xlabel('x')\n",
    "plt.ylabel('P(x)')\n",
    "plt.legend(['Simulación', 'CDF uniforme'])\n",
    "plt.title('CDF uniforme')\n",
    "plt.grid()\n",
    "plt.show()"
   ]
  },
  {
   "cell_type": "markdown",
   "metadata": {},
   "source": [
    "### Distribución normal\n",
    "La podemos simular con `np.random.Generator.normal` y calcular con `scipy.stats.norm`.\n"
   ]
  },
  {
   "cell_type": "code",
   "execution_count": null,
   "metadata": {},
   "outputs": [],
   "source": [
    "mu, sigma = 0, 0.1 # media y desviación estándar\n",
    "size=10_000\n",
    "s = np.random.default_rng().normal(mu, sigma, size)"
   ]
  },
  {
   "cell_type": "code",
   "execution_count": null,
   "metadata": {},
   "outputs": [],
   "source": [
    "s[:10]"
   ]
  },
  {
   "cell_type": "code",
   "execution_count": null,
   "metadata": {},
   "outputs": [],
   "source": [
    "from scipy.stats import norm\n",
    "count, bins, ignored = plt.hist(s, 20, density=True, label='Simulación')\n",
    "x = np.linspace(mu-3*sigma, mu+3*sigma)\n",
    "plt.plot(x, norm.pdf(x, mu, sigma), linewidth=2, color='r', label='PDF normal')\n",
    "plt.xlabel(\"x\")\n",
    "plt.ylabel(\"PDF\")\n",
    "plt.legend()\n",
    "plt.title(\"Distribución normal\")\n",
    "plt.grid()\n",
    "plt.show()"
   ]
  },
  {
   "cell_type": "markdown",
   "metadata": {},
   "source": [
    "La PMF está normalizada para que su CDF sea 1 (área bajo la curva)"
   ]
  },
  {
   "cell_type": "code",
   "execution_count": null,
   "metadata": {},
   "outputs": [],
   "source": [
    "#CDF\n",
    "plt.plot(bins[1:], count.cumsum()/np.sum(count), 'o-', label='CDF simulación')\n",
    "plt.plot(bins, norm.cdf(bins, mu, sigma), linewidth=2, color='r', label='CDF normal')\n",
    "plt.xlabel(\"x\")\n",
    "plt.ylabel(\"CDF\")\n",
    "plt.legend()\n",
    "plt.grid()\n",
    "plt.title(\"CDF normal\")\n",
    "plt.show()"
   ]
  },
  {
   "cell_type": "markdown",
   "metadata": {},
   "source": [
    "El CDF nos permite conocer la probabilidad de obtener un valor dentro de un rango:"
   ]
  },
  {
   "cell_type": "code",
   "execution_count": null,
   "metadata": {},
   "outputs": [],
   "source": [
    "#Probabilidad de salida menor o igual a 0\n",
    "norm.cdf(0, mu, sigma)"
   ]
  },
  {
   "cell_type": "code",
   "execution_count": null,
   "metadata": {},
   "outputs": [],
   "source": [
    "#Probabilidad entre -sigma y 0\n",
    "norm.cdf(0, mu, sigma)-norm.cdf(-sigma, mu, sigma)"
   ]
  },
  {
   "cell_type": "code",
   "execution_count": null,
   "metadata": {},
   "outputs": [],
   "source": [
    "#Prob. de obtener un valor alrededor de una desv. estándar de la media\n",
    "norm.cdf(sigma, mu, sigma)-norm.cdf(-sigma, mu, sigma)"
   ]
  },
  {
   "cell_type": "code",
   "execution_count": null,
   "metadata": {},
   "outputs": [],
   "source": [
    "#probabilidad del valor en el rango de ± 3 sigmas\n",
    "norm.cdf(3*sigma, mu, sigma)-norm.cdf(-3*sigma, mu, sigma)"
   ]
  },
  {
   "cell_type": "markdown",
   "metadata": {},
   "source": [
    "### Teorema Central del Límite\n",
    "La distribución de las medias de cualquier distribución se aproxima a una distribución normal a medida que aumenta el tamaño de la muestra.  \n",
    "Cogemos 10 valores muestreados de una distribución uniforme entre [0, 1) y calculamos su media para *n* realizaciones distintas, variando el valor de *n*."
   ]
  },
  {
   "cell_type": "code",
   "execution_count": null,
   "metadata": {},
   "outputs": [],
   "source": [
    "from scipy.stats import norm\n",
    "\n",
    "# Parámetros de la simulación\n",
    "n_muestras = 10   # Número de medias muestrales a calcular\n",
    "n_experimentos = [5, 10, 50, 100, 500, 1000]  # Tamaños de muestra a analizar en cada experimento\n",
    "\n",
    "# Generamos la figura\n",
    "plt.figure(figsize=(12, 8))\n",
    "\n",
    "for i, n in enumerate(n_experimentos):\n",
    "    # Simulamos n repeticiones de tamaño n_muestras\n",
    "    s = np.array([np.random.default_rng().uniform(size=n_muestras) for _ in range(n)])\n",
    "    # Calculamos la media de la muestra\n",
    "    medias_muestrales = s.mean(axis=1)\n",
    "    \n",
    "    # Graficamos el histograma de las medias muestrales\n",
    "    plt.subplot(2, len(n_experimentos)//2 + 1, i+1)\n",
    "    plt.hist(medias_muestrales, bins=25, density=True, alpha=0.7, color='blue')\n",
    "    \n",
    "    # Ajustamos una distribución normal teórica con la misma media y varianza\n",
    "    mu_teorico = 0.5  # Media teórica de la distribución uniforme\n",
    "    sigma_teorico = np.sqrt(1/12) / np.sqrt(n_muestras)  # Desviación estándar teórica del TCL\n",
    "    x = np.linspace(min(medias_muestrales), max(medias_muestrales), 1000)\n",
    "    plt.plot(x, norm.pdf(x, mu_teorico, sigma_teorico), 'r-')\n",
    "    \n",
    "    plt.title(f'n={n}')\n",
    "    plt.xlabel('Media muestral')\n",
    "    plt.ylabel('Densidad')\n",
    "\n",
    "plt.tight_layout()\n",
    "plt.show()\n"
   ]
  },
  {
   "attachments": {},
   "cell_type": "markdown",
   "metadata": {},
   "source": [
    "## Método de Monte Carlo\n",
    "Permite simular un evento probabilístico sin necesidad de realizar el desarrollo matemático.  \n",
    "### Ejemplo\n",
    "Vamos a calcular la probabilidad de que la suma de lanzar 3 dados sea 10"
   ]
  },
  {
   "cell_type": "code",
   "execution_count": null,
   "metadata": {},
   "outputs": [],
   "source": [
    "#simulamos el lanzamiento de 3 dados\n",
    "s = np.random.choice(np.arange(6)+1, 3, replace=True)\n",
    "s, sum(s)\n"
   ]
  },
  {
   "cell_type": "code",
   "execution_count": null,
   "metadata": {},
   "outputs": [],
   "source": [
    "#repetimos el lanzamiento n veces\n",
    "n = 10_000\n",
    "sumas = [sum(np.random.choice(np.arange(6)+1, 3, replace=True)) for i in range(n)]\n"
   ]
  },
  {
   "cell_type": "code",
   "execution_count": null,
   "metadata": {},
   "outputs": [],
   "source": [
    "sumas[:10]"
   ]
  },
  {
   "cell_type": "code",
   "execution_count": null,
   "metadata": {},
   "outputs": [],
   "source": [
    "#representamos resultados\n",
    "counts = pd.Series(sumas).value_counts().sort_index() / n\n",
    "\n",
    "plt.plot(counts.index, counts, 'ro', )\n",
    "plt.vlines(counts.index, 0, counts, colors='r', lw=5, alpha=0.5)\n",
    "plt.xlabel(\"Valor de la suma\",fontsize=13)\n",
    "plt.ylabel(\"Probabilidad\",fontsize=13)\n",
    "plt.grid()\n",
    "plt.title(\"Distribución de la suma de 3 dados\")\n",
    "plt.show()"
   ]
  },
  {
   "cell_type": "code",
   "execution_count": null,
   "metadata": {},
   "outputs": [],
   "source": [
    "counts * 100 #en porcentaje"
   ]
  },
  {
   "cell_type": "markdown",
   "metadata": {},
   "source": [
    "Analíticamente: estudiamos todas las posibilidades de sumar 10, considerando todas las posibles combinaciones de 3 dados"
   ]
  },
  {
   "cell_type": "code",
   "execution_count": null,
   "metadata": {},
   "outputs": [],
   "source": [
    "from itertools import product\n",
    "\n",
    "combinaciones = [sum(x)==10 for x in product(np.arange(6)+1, repeat = 3)]\n",
    "posibilidades = np.sum(combinaciones)\n",
    "total = len(combinaciones)\n",
    "\n",
    "posibilidades / total"
   ]
  },
  {
   "cell_type": "code",
   "execution_count": null,
   "metadata": {},
   "outputs": [],
   "source": [
    "# Valos simulado\n",
    "counts.loc[10]"
   ]
  },
  {
   "attachments": {},
   "cell_type": "markdown",
   "metadata": {},
   "source": [
    "El valor estimado de la suma es:"
   ]
  },
  {
   "cell_type": "code",
   "execution_count": null,
   "metadata": {},
   "outputs": [],
   "source": [
    "E = sum(1/6*(np.arange(6)+1)) #valor estimado para 1 dado\n",
    "E * 3 #valor estimado de la suma para 3 dados"
   ]
  },
  {
   "cell_type": "code",
   "execution_count": null,
   "metadata": {},
   "outputs": [],
   "source": [
    "#que coincide con el valor observado\n",
    "np.mean(sumas)"
   ]
  },
  {
   "cell_type": "markdown",
   "metadata": {},
   "source": [
    "### Estimación del valor de Pi\n",
    "Suponemos que tenemos un círculo de radio $r=1$ dentro de un cuadrado del mismo tamaño. Sabiendo que el área de un círculo tiene el valor $A=\\pi \\times r^2$,  lanzamos aleatoriamente dardos en toda la superficie del cuadrado, la proporción $p$ de dardos que quedan dentro del cículo deben de ser:\n",
    "$p=\\frac{\\pi \\times r^2}{(2r)^2}=\\frac{\\pi}{4}$   \n",
    "Luego:\n",
    "$\\pi=p \\times 4$  "
   ]
  },
  {
   "cell_type": "code",
   "execution_count": null,
   "metadata": {},
   "outputs": [],
   "source": [
    "import random as r\n",
    "import math as m\n",
    "\n",
    "# Número de dardos que caen dentro del círculo.\n",
    "inside = 0\n",
    "# Número total de dardos lanzados.\n",
    "total = 10_000_000\n",
    "\n",
    "# Iteramos para el total de dardos.\n",
    "for i in range(0, total):\n",
    "  # Generamos posición del dardo (x, y) en el rango [0, 1] con una distr. uniforme\n",
    "  \n",
    "    x = r.random()\n",
    "    y = r.random()\n",
    "  # Incrementamos el contador si el dardo cae dentro.\n",
    "    if m.sqrt(x**2 + y**2) <= 1.0:\n",
    "        inside += 1\n",
    "\n",
    "# dentro / total = pi / 4\n",
    "pi = (float(inside) / total) * 4\n",
    "pi\n"
   ]
  },
  {
   "cell_type": "code",
   "execution_count": null,
   "metadata": {},
   "outputs": [],
   "source": [
    "#Versión vectorizada con numPy\n",
    "\n",
    "total=10_000_000\n",
    "x = np.random.default_rng().uniform(size=total)\n",
    "y = np.random.default_rng().uniform(size=total)\n",
    "inside = np.sum(np.sqrt(x**2 + y**2) <= 1.0)\n",
    "pi = (float(inside) / total) * 4\n",
    "pi"
   ]
  },
  {
   "cell_type": "markdown",
   "metadata": {},
   "source": [
    "### Ejercicio\n",
    "Analiza cómo mejora la precisión de la estimación de $\\pi$ al aumentar el nº de dardos en la simulación.  \n",
    "Para eso hay que crear una función que calcule la estimación de $\\pi$ en función del nº de dardos (N) y hacer un barrido de N"
   ]
  },
  {
   "cell_type": "code",
   "execution_count": null,
   "metadata": {},
   "outputs": [],
   "source": [
    "#Mejora de la precisión de la simulación con el número de dardos\n",
    "def calcula_pi(n):\n",
    "    #completar\n",
    "\n",
    "\n",
    "    return pi"
   ]
  },
  {
   "cell_type": "code",
   "execution_count": null,
   "metadata": {},
   "outputs": [],
   "source": [
    "calcula_pi(100_000)"
   ]
  },
  {
   "cell_type": "code",
   "execution_count": null,
   "metadata": {},
   "outputs": [],
   "source": [
    "N = np.logspace(2, 6, 1000) #escala logarítmica de 100 a 1_000_000 de simulaciones (1000 pasos)"
   ]
  },
  {
   "cell_type": "code",
   "execution_count": null,
   "metadata": {},
   "outputs": [],
   "source": [
    "pi_estimado = [calcula_pi(int(i)) for i in N]\n",
    "\n",
    "plt.semilogx(N, pi_estimado)\n",
    "plt.xlabel('Nº de dardos')\n",
    "plt.ylabel('$\\pi$')\n",
    "plt.title('Valor estimado de $\\pi$')\n",
    "plt.axhline(y=np.pi, color='r', linewidth=2)\n",
    "plt.grid()\n",
    "plt.show()"
   ]
  },
  {
   "cell_type": "code",
   "execution_count": null,
   "metadata": {},
   "outputs": [],
   "source": [
    "pi_estimado[-1] #valor estimado en la última iteración (N máxima)"
   ]
  },
  {
   "cell_type": "code",
   "execution_count": null,
   "metadata": {},
   "outputs": [],
   "source": [
    "#Representación del error absoluto\n",
    "plt.semilogx(N, (np.abs(np.array(pi_estimado)-np.pi)))\n",
    "plt.xlabel('Nº de dardos')\n",
    "plt.ylabel('Error')\n",
    "plt.title('Error en la estimación de $\\pi$')\n",
    "plt.grid()\n",
    "plt.show()"
   ]
  },
  {
   "cell_type": "code",
   "execution_count": null,
   "metadata": {},
   "outputs": [],
   "source": [
    "#error en la última iteración\n",
    "np.abs(np.array(pi_estimado[-1])-np.pi)"
   ]
  },
  {
   "attachments": {},
   "cell_type": "markdown",
   "metadata": {},
   "source": [
    "### Problema de Monty Hall\n",
    "Vamos a calcular las probabilidades de ganar en el juego de Monty Hall según se cambie o no la puerta mediante simulación."
   ]
  },
  {
   "cell_type": "code",
   "execution_count": null,
   "metadata": {},
   "outputs": [],
   "source": [
    "def juego(cambio):\n",
    "    \"\"\"Calcula la probabilidad de ganar en el juego de Monty Hall\n",
    "    en función de si cambiamos (cambio=1) o no la puerta\"\"\"\n",
    "    P = np.arange(3) #puertas posibles\n",
    "    E = np.random.choice(3, 1) #puerta elegida\n",
    "    C = np.random.choice(3, 1) #puerta con el coche, sucesos independientes\n",
    "    Monty = np.random.choice(np.setdiff1d(P, np.union1d(E, C)), 1) #selección de Monty\n",
    "    E = E if cambio==0 else np.setdiff1d(P, np.union1d(E, Monty)) #elección final\n",
    "    \n",
    "    return(E==C)"
   ]
  },
  {
   "cell_type": "markdown",
   "metadata": {},
   "source": [
    "Simulamos el juego 1000 veces"
   ]
  },
  {
   "cell_type": "code",
   "execution_count": null,
   "metadata": {},
   "outputs": [],
   "source": [
    "#Cuando el concursante NO cambia la puerta\n",
    "\n",
    "N = 10_000\n",
    "ganados = [juego(0) for i in range(N)]\n",
    "p_ganar = np.sum(ganados) / N\n",
    "\n",
    "plt.plot(np.cumsum(ganados)*100/(np.arange(N)+1))\n",
    "plt.xlabel('Nº de intentos')\n",
    "plt.ylabel('% intentos ganados')\n",
    "plt.title('% de intentos ganados cuando NO se cambia')\n",
    "plt.grid()\n",
    "plt.show()\n",
    "print(f'Gana un {p_ganar*100:.2f}% de las veces')"
   ]
  },
  {
   "cell_type": "code",
   "execution_count": null,
   "metadata": {},
   "outputs": [],
   "source": [
    "#Cuando el concursante SÍ cambia la puerta\n",
    "\n",
    "N = 10000\n",
    "ganados = [juego(1) for i in range(N)]\n",
    "p_ganar = np.sum(ganados) / N\n",
    "\n",
    "plt.plot(np.cumsum(ganados)*100/(np.arange(N)+1))\n",
    "plt.xlabel('Nº de intentos')\n",
    "plt.ylabel('% inttentos ganados')\n",
    "plt.title('porc. de intentos ganados cuando SI se cambia')\n",
    "plt.grid()\n",
    "plt.show()\n",
    "print(f'Gana un {p_ganar*100:.2f}% de las veces')"
   ]
  },
  {
   "cell_type": "markdown",
   "metadata": {},
   "source": [
    "Explicación del código de la función"
   ]
  },
  {
   "cell_type": "code",
   "execution_count": null,
   "metadata": {},
   "outputs": [],
   "source": [
    "P = np.arange(3) #puertas posibles\n",
    "P"
   ]
  },
  {
   "cell_type": "code",
   "execution_count": null,
   "metadata": {},
   "outputs": [],
   "source": [
    "E = np.random.choice(3, 1) #puerta elegida\n",
    "E"
   ]
  },
  {
   "cell_type": "code",
   "execution_count": null,
   "metadata": {},
   "outputs": [],
   "source": [
    "C = np.random.choice(3, 1) #puerta con el coche, sucesos independientes\n",
    "C"
   ]
  },
  {
   "cell_type": "code",
   "execution_count": null,
   "metadata": {},
   "outputs": [],
   "source": [
    "np.union1d(E, C) #puertas que no puede elegir Monty"
   ]
  },
  {
   "cell_type": "code",
   "execution_count": null,
   "metadata": {},
   "outputs": [],
   "source": [
    "np.setdiff1d(P, np.union1d(E, C)) #puertas que puede elegir Monty"
   ]
  },
  {
   "cell_type": "code",
   "execution_count": null,
   "metadata": {},
   "outputs": [],
   "source": [
    "Monty=np.random.choice(np.setdiff1d(P, np.union1d(E, C))) #puerta seleccionada por Monty\n",
    "Monty"
   ]
  },
  {
   "cell_type": "code",
   "execution_count": null,
   "metadata": {},
   "outputs": [],
   "source": [
    "np.union1d(E, Monty) #puertas descartadas si el concursante cambia la puerta"
   ]
  },
  {
   "cell_type": "code",
   "execution_count": null,
   "metadata": {},
   "outputs": [],
   "source": [
    "E == C #resultado final si el concursante NO cambia la puerta"
   ]
  },
  {
   "cell_type": "code",
   "execution_count": null,
   "metadata": {},
   "outputs": [],
   "source": [
    "E = np.setdiff1d(P,np.union1d(E, Monty)) #selección final si el concursante SÍ cambia la puerta\n",
    "E"
   ]
  },
  {
   "cell_type": "code",
   "execution_count": null,
   "metadata": {},
   "outputs": [],
   "source": [
    "E == C #resultado final si el jugador SÍ cambia la puerta"
   ]
  }
 ],
 "metadata": {
  "kernelspec": {
   "display_name": "base",
   "language": "python",
   "name": "python3"
  },
  "language_info": {
   "codemirror_mode": {
    "name": "ipython",
    "version": 3
   },
   "file_extension": ".py",
   "mimetype": "text/x-python",
   "name": "python",
   "nbconvert_exporter": "python",
   "pygments_lexer": "ipython3",
   "version": "3.11.7"
  }
 },
 "nbformat": 4,
 "nbformat_minor": 4
}
